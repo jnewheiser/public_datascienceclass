{
 "cells": [
  {
   "cell_type": "code",
   "execution_count": 41,
   "metadata": {
    "collapsed": false
   },
   "outputs": [
    {
     "data": {
      "text/html": [
       "<div>\n",
       "<table border=\"1\" class=\"dataframe\">\n",
       "  <thead>\n",
       "    <tr style=\"text-align: right;\">\n",
       "      <th></th>\n",
       "      <th>photos</th>\n",
       "      <th>zip_code</th>\n",
       "      <th>listed_boarding</th>\n",
       "      <th>listed_traveling</th>\n",
       "      <th>listed_walking</th>\n",
       "      <th>listed_dropin</th>\n",
       "      <th>listed_daycare</th>\n",
       "      <th>service_added_to_complete</th>\n",
       "      <th>account_added_to_complete</th>\n",
       "      <th>monday</th>\n",
       "      <th>...</th>\n",
       "      <th>protection_package</th>\n",
       "      <th>years_of_experience</th>\n",
       "      <th>dogs_on_furniture</th>\n",
       "      <th>children_in_home</th>\n",
       "      <th>building_home</th>\n",
       "      <th>building_apartment</th>\n",
       "      <th>building_farm</th>\n",
       "      <th>building_unknown</th>\n",
       "      <th>testimonial_requests</th>\n",
       "      <th>churned</th>\n",
       "    </tr>\n",
       "    <tr>\n",
       "      <th>id</th>\n",
       "      <th></th>\n",
       "      <th></th>\n",
       "      <th></th>\n",
       "      <th></th>\n",
       "      <th></th>\n",
       "      <th></th>\n",
       "      <th></th>\n",
       "      <th></th>\n",
       "      <th></th>\n",
       "      <th></th>\n",
       "      <th></th>\n",
       "      <th></th>\n",
       "      <th></th>\n",
       "      <th></th>\n",
       "      <th></th>\n",
       "      <th></th>\n",
       "      <th></th>\n",
       "      <th></th>\n",
       "      <th></th>\n",
       "      <th></th>\n",
       "      <th></th>\n",
       "    </tr>\n",
       "  </thead>\n",
       "  <tbody>\n",
       "    <tr>\n",
       "      <th>121937</th>\n",
       "      <td>4</td>\n",
       "      <td>91792</td>\n",
       "      <td>1</td>\n",
       "      <td>1</td>\n",
       "      <td>0</td>\n",
       "      <td>1</td>\n",
       "      <td>0</td>\n",
       "      <td>45</td>\n",
       "      <td>47</td>\n",
       "      <td>0</td>\n",
       "      <td>...</td>\n",
       "      <td>1</td>\n",
       "      <td>0</td>\n",
       "      <td>NaN</td>\n",
       "      <td>0</td>\n",
       "      <td>0</td>\n",
       "      <td>1</td>\n",
       "      <td>0</td>\n",
       "      <td>0</td>\n",
       "      <td>0</td>\n",
       "      <td>0</td>\n",
       "    </tr>\n",
       "    <tr>\n",
       "      <th>121941</th>\n",
       "      <td>16</td>\n",
       "      <td>28215</td>\n",
       "      <td>1</td>\n",
       "      <td>1</td>\n",
       "      <td>0</td>\n",
       "      <td>0</td>\n",
       "      <td>1</td>\n",
       "      <td>21</td>\n",
       "      <td>330</td>\n",
       "      <td>1</td>\n",
       "      <td>...</td>\n",
       "      <td>1</td>\n",
       "      <td>15</td>\n",
       "      <td>1.0</td>\n",
       "      <td>1</td>\n",
       "      <td>1</td>\n",
       "      <td>0</td>\n",
       "      <td>0</td>\n",
       "      <td>0</td>\n",
       "      <td>0</td>\n",
       "      <td>1</td>\n",
       "    </tr>\n",
       "    <tr>\n",
       "      <th>121960</th>\n",
       "      <td>4</td>\n",
       "      <td>17110</td>\n",
       "      <td>1</td>\n",
       "      <td>1</td>\n",
       "      <td>0</td>\n",
       "      <td>1</td>\n",
       "      <td>0</td>\n",
       "      <td>1</td>\n",
       "      <td>1</td>\n",
       "      <td>1</td>\n",
       "      <td>...</td>\n",
       "      <td>1</td>\n",
       "      <td>2</td>\n",
       "      <td>1.0</td>\n",
       "      <td>0</td>\n",
       "      <td>1</td>\n",
       "      <td>0</td>\n",
       "      <td>0</td>\n",
       "      <td>0</td>\n",
       "      <td>0</td>\n",
       "      <td>0</td>\n",
       "    </tr>\n",
       "    <tr>\n",
       "      <th>121961</th>\n",
       "      <td>4</td>\n",
       "      <td>90046</td>\n",
       "      <td>0</td>\n",
       "      <td>1</td>\n",
       "      <td>0</td>\n",
       "      <td>0</td>\n",
       "      <td>0</td>\n",
       "      <td>0</td>\n",
       "      <td>288</td>\n",
       "      <td>1</td>\n",
       "      <td>...</td>\n",
       "      <td>1</td>\n",
       "      <td>0</td>\n",
       "      <td>NaN</td>\n",
       "      <td>0</td>\n",
       "      <td>0</td>\n",
       "      <td>0</td>\n",
       "      <td>0</td>\n",
       "      <td>1</td>\n",
       "      <td>0</td>\n",
       "      <td>0</td>\n",
       "    </tr>\n",
       "    <tr>\n",
       "      <th>121969</th>\n",
       "      <td>15</td>\n",
       "      <td>44273</td>\n",
       "      <td>1</td>\n",
       "      <td>1</td>\n",
       "      <td>0</td>\n",
       "      <td>1</td>\n",
       "      <td>0</td>\n",
       "      <td>1</td>\n",
       "      <td>1</td>\n",
       "      <td>0</td>\n",
       "      <td>...</td>\n",
       "      <td>1</td>\n",
       "      <td>0</td>\n",
       "      <td>NaN</td>\n",
       "      <td>0</td>\n",
       "      <td>1</td>\n",
       "      <td>0</td>\n",
       "      <td>0</td>\n",
       "      <td>0</td>\n",
       "      <td>0</td>\n",
       "      <td>0</td>\n",
       "    </tr>\n",
       "  </tbody>\n",
       "</table>\n",
       "<p>5 rows × 27 columns</p>\n",
       "</div>"
      ],
      "text/plain": [
       "        photos zip_code  listed_boarding  listed_traveling  listed_walking  \\\n",
       "id                                                                           \n",
       "121937       4    91792                1                 1               0   \n",
       "121941      16    28215                1                 1               0   \n",
       "121960       4    17110                1                 1               0   \n",
       "121961       4    90046                0                 1               0   \n",
       "121969      15    44273                1                 1               0   \n",
       "\n",
       "        listed_dropin  listed_daycare  service_added_to_complete  \\\n",
       "id                                                                 \n",
       "121937              1               0                         45   \n",
       "121941              0               1                         21   \n",
       "121960              1               0                          1   \n",
       "121961              0               0                          0   \n",
       "121969              1               0                          1   \n",
       "\n",
       "        account_added_to_complete  monday   ...     protection_package  \\\n",
       "id                                          ...                          \n",
       "121937                         47       0   ...                      1   \n",
       "121941                        330       1   ...                      1   \n",
       "121960                          1       1   ...                      1   \n",
       "121961                        288       1   ...                      1   \n",
       "121969                          1       0   ...                      1   \n",
       "\n",
       "        years_of_experience  dogs_on_furniture  children_in_home  \\\n",
       "id                                                                 \n",
       "121937                    0                NaN                 0   \n",
       "121941                   15                1.0                 1   \n",
       "121960                    2                1.0                 0   \n",
       "121961                    0                NaN                 0   \n",
       "121969                    0                NaN                 0   \n",
       "\n",
       "        building_home  building_apartment  building_farm  building_unknown  \\\n",
       "id                                                                           \n",
       "121937              0                   1              0                 0   \n",
       "121941              1                   0              0                 0   \n",
       "121960              1                   0              0                 0   \n",
       "121961              0                   0              0                 1   \n",
       "121969              1                   0              0                 0   \n",
       "\n",
       "        testimonial_requests  churned  \n",
       "id                                     \n",
       "121937                     0        0  \n",
       "121941                     0        1  \n",
       "121960                     0        0  \n",
       "121961                     0        0  \n",
       "121969                     0        0  \n",
       "\n",
       "[5 rows x 27 columns]"
      ]
     },
     "execution_count": 41,
     "metadata": {},
     "output_type": "execute_result"
    }
   ],
   "source": [
    "import pandas as pd\n",
    "path = '../Data Science Class/'\n",
    "url = path + 'datascience_v6.csv'\n",
    "rover = pd.read_csv(url, index_col='id')\n",
    "rover.head()"
   ]
  },
  {
   "cell_type": "code",
   "execution_count": 6,
   "metadata": {
    "collapsed": false
   },
   "outputs": [
    {
     "data": {
      "text/plain": [
       "Index([u'photos', u'zip_code', u'listed_boarding', u'listed_traveling',\n",
       "       u'listed_walking', u'listed_dropin', u'listed_daycare',\n",
       "       u'service_added_to_complete', u'account_added_to_complete', u'monday',\n",
       "       u'tuesday', u'wednesday', u'thursday', u'friday', u'saturday',\n",
       "       u'sunday', u'has_dog', u'protection_package', u'years_of_experience',\n",
       "       u'dogs_on_furniture', u'children_in_home', u'building_home',\n",
       "       u'building_apartment', u'building_farm', u'building_unknown',\n",
       "       u'testimonial_requests', u'churned'],\n",
       "      dtype='object')"
      ]
     },
     "execution_count": 6,
     "metadata": {},
     "output_type": "execute_result"
    }
   ],
   "source": [
    "rover.columns"
   ]
  },
  {
   "cell_type": "code",
   "execution_count": 7,
   "metadata": {
    "collapsed": true
   },
   "outputs": [],
   "source": [
    "%matplotlib inline"
   ]
  },
  {
   "cell_type": "markdown",
   "metadata": {},
   "source": [
    "### Photos"
   ]
  },
  {
   "cell_type": "code",
   "execution_count": 8,
   "metadata": {
    "collapsed": false
   },
   "outputs": [
    {
     "data": {
      "text/plain": [
       "<matplotlib.axes._subplots.AxesSubplot at 0x11b4a80d0>"
      ]
     },
     "execution_count": 8,
     "metadata": {},
     "output_type": "execute_result"
    },
    {
     "data": {
      "image/png": "[encoded data removed]",
      "text/plain": [
       "<matplotlib.figure.Figure at 0x11b4e3710>"
      ]
     },
     "metadata": {},
     "output_type": "display_data"
    }
   ],
   "source": [
    "rover.boxplot(column='photos', by='churned')"
   ]
  },
  {
   "cell_type": "code",
   "execution_count": 11,
   "metadata": {
    "collapsed": false
   },
   "outputs": [
    {
     "data": {
      "text/plain": [
       "array([<matplotlib.axes._subplots.AxesSubplot object at 0x112ed6510>,\n",
       "       <matplotlib.axes._subplots.AxesSubplot object at 0x1122d26d0>], dtype=object)"
      ]
     },
     "execution_count": 11,
     "metadata": {},
     "output_type": "execute_result"
    },
    {
     "data": {
      "image/png": "[encoded data removed]",
      "text/plain": [
       "<matplotlib.figure.Figure at 0x112ed6b50>"
      ]
     },
     "metadata": {},
     "output_type": "display_data"
    }
   ],
   "source": [
    "rover.hist(column='photos', by='churned')"
   ]
  },
  {
   "cell_type": "code",
   "execution_count": 12,
   "metadata": {
    "collapsed": false
   },
   "outputs": [
    {
     "data": {
      "text/plain": [
       "photos\n",
       "0       0.587995\n",
       "1       0.537949\n",
       "2       0.562710\n",
       "3       0.520142\n",
       "4       0.522106\n",
       "5       0.514698\n",
       "6       0.507414\n",
       "7       0.503546\n",
       "8       0.503003\n",
       "9       0.502749\n",
       "10      0.502983\n",
       "11      0.512983\n",
       "12      0.505495\n",
       "13      0.507431\n",
       "14      0.474203\n",
       "15      0.521190\n",
       "16      0.498258\n",
       "17      0.525478\n",
       "18      0.516049\n",
       "19      0.515480\n",
       "20      0.447183\n",
       "21      0.483444\n",
       "22      0.486936\n",
       "23      0.483957\n",
       "24      0.550562\n",
       "25      0.507353\n",
       "26      0.547826\n",
       "27      0.467742\n",
       "28      0.494845\n",
       "29      0.444444\n",
       "          ...   \n",
       "166     0.000000\n",
       "169     0.000000\n",
       "172     0.666667\n",
       "174     1.000000\n",
       "175     1.000000\n",
       "181     1.000000\n",
       "184     0.000000\n",
       "186     1.000000\n",
       "192     0.000000\n",
       "222     1.000000\n",
       "228     1.000000\n",
       "234     1.000000\n",
       "235     0.000000\n",
       "247     0.000000\n",
       "250     0.000000\n",
       "259     1.000000\n",
       "263     0.000000\n",
       "269     1.000000\n",
       "271     0.000000\n",
       "338     0.000000\n",
       "340     0.000000\n",
       "359     0.000000\n",
       "363     1.000000\n",
       "430     0.000000\n",
       "441     1.000000\n",
       "463     1.000000\n",
       "484     0.000000\n",
       "531     0.000000\n",
       "934     0.000000\n",
       "3981    0.000000\n",
       "Name: churned, dtype: float64"
      ]
     },
     "execution_count": 12,
     "metadata": {},
     "output_type": "execute_result"
    }
   ],
   "source": [
    "rover.groupby(['photos']).churned.mean()"
   ]
  },
  {
   "cell_type": "markdown",
   "metadata": {},
   "source": [
    "### Zip Code"
   ]
  },
  {
   "cell_type": "code",
   "execution_count": 13,
   "metadata": {
    "collapsed": false
   },
   "outputs": [
    {
     "data": {
      "text/plain": [
       "zip_code\n",
       "714.0     1.000000\n",
       "907.0     0.000000\n",
       "921.0     0.000000\n",
       "924.0     1.000000\n",
       "976.0     0.000000\n",
       "1001.0    0.666667\n",
       "1002.0    0.571429\n",
       "1013.0    0.000000\n",
       "1020.0    0.000000\n",
       "1027.0    0.000000\n",
       "1036.0    1.000000\n",
       "1037.0    0.000000\n",
       "1040.0    0.000000\n",
       "1056.0    0.500000\n",
       "1060.0    0.625000\n",
       "1062.0    0.500000\n",
       "1063.0    0.000000\n",
       "1069.0    1.000000\n",
       "1075.0    0.500000\n",
       "1085.0    0.666667\n",
       "1089.0    0.500000\n",
       "1101.0    1.000000\n",
       "1106.0    0.500000\n",
       "1108.0    0.500000\n",
       "1109.0    1.000000\n",
       "1118.0    1.000000\n",
       "1201.0    0.600000\n",
       "1230.0    0.500000\n",
       "1247.0    0.000000\n",
       "1267.0    1.000000\n",
       "            ...   \n",
       "99167     0.000000\n",
       "99202     0.333333\n",
       "99203     0.000000\n",
       "99204     0.000000\n",
       "99205     1.000000\n",
       "99208     0.000000\n",
       "99212     0.000000\n",
       "99216     0.500000\n",
       "99217     0.500000\n",
       "99223     0.000000\n",
       "99224     0.500000\n",
       "99302     0.000000\n",
       "99336     0.500000\n",
       "99337     1.000000\n",
       "99338     0.000000\n",
       "99350     0.000000\n",
       "99352     0.000000\n",
       "99402     1.000000\n",
       "99501     0.666667\n",
       "99502     0.000000\n",
       "99506     1.000000\n",
       "99515     1.000000\n",
       "99516     0.000000\n",
       "99517     0.000000\n",
       "99567     0.500000\n",
       "99577     1.000000\n",
       "99623     0.000000\n",
       "99652     1.000000\n",
       "99654     1.000000\n",
       "99664     0.000000\n",
       "Name: churned, dtype: float64"
      ]
     },
     "execution_count": 13,
     "metadata": {},
     "output_type": "execute_result"
    }
   ],
   "source": [
    "rover.groupby(['zip_code']).churned.mean()"
   ]
  },
  {
   "cell_type": "markdown",
   "metadata": {},
   "source": [
    "### Service Type\n"
   ]
  },
  {
   "cell_type": "code",
   "execution_count": 15,
   "metadata": {
    "collapsed": false
   },
   "outputs": [
    {
     "data": {
      "text/plain": [
       "listed_boarding\n",
       "0    0.517732\n",
       "1    0.507807\n",
       "Name: churned, dtype: float64"
      ]
     },
     "execution_count": 15,
     "metadata": {},
     "output_type": "execute_result"
    }
   ],
   "source": [
    "rover.groupby(['listed_boarding']).churned.mean()"
   ]
  },
  {
   "cell_type": "code",
   "execution_count": 16,
   "metadata": {
    "collapsed": false
   },
   "outputs": [
    {
     "data": {
      "text/plain": [
       "listed_traveling\n",
       "0    0.448685\n",
       "1    0.544339\n",
       "Name: churned, dtype: float64"
      ]
     },
     "execution_count": 16,
     "metadata": {},
     "output_type": "execute_result"
    }
   ],
   "source": [
    "rover.groupby(['listed_traveling']).churned.mean()"
   ]
  },
  {
   "cell_type": "code",
   "execution_count": 17,
   "metadata": {
    "collapsed": false
   },
   "outputs": [
    {
     "data": {
      "text/plain": [
       "listed_walking\n",
       "0    0.517255\n",
       "1    0.504160\n",
       "Name: churned, dtype: float64"
      ]
     },
     "execution_count": 17,
     "metadata": {},
     "output_type": "execute_result"
    }
   ],
   "source": [
    "rover.groupby(['listed_walking']).churned.mean()"
   ]
  },
  {
   "cell_type": "code",
   "execution_count": 18,
   "metadata": {
    "collapsed": false
   },
   "outputs": [
    {
     "data": {
      "text/plain": [
       "listed_dropin\n",
       "0    0.451801\n",
       "1    0.551989\n",
       "Name: churned, dtype: float64"
      ]
     },
     "execution_count": 18,
     "metadata": {},
     "output_type": "execute_result"
    }
   ],
   "source": [
    "rover.groupby(['listed_dropin']).churned.mean()"
   ]
  },
  {
   "cell_type": "code",
   "execution_count": 19,
   "metadata": {
    "collapsed": false
   },
   "outputs": [
    {
     "data": {
      "text/plain": [
       "listed_daycare\n",
       "0    0.504165\n",
       "1    0.532771\n",
       "Name: churned, dtype: float64"
      ]
     },
     "execution_count": 19,
     "metadata": {},
     "output_type": "execute_result"
    }
   ],
   "source": [
    "rover.groupby(['listed_daycare']).churned.mean()"
   ]
  },
  {
   "cell_type": "markdown",
   "metadata": {},
   "source": [
    "### Time to Completion"
   ]
  },
  {
   "cell_type": "code",
   "execution_count": 20,
   "metadata": {
    "collapsed": false
   },
   "outputs": [
    {
     "data": {
      "text/plain": [
       "service_added_to_complete\n",
       "0       0.527061\n",
       "1       0.470114\n",
       "2       0.485788\n",
       "3       0.493770\n",
       "4       0.488884\n",
       "5       0.488400\n",
       "6       0.525621\n",
       "7       0.536574\n",
       "8       0.555676\n",
       "9       0.573550\n",
       "10      0.574956\n",
       "11      0.561644\n",
       "12      0.569089\n",
       "13      0.556582\n",
       "14      0.548499\n",
       "15      0.557307\n",
       "16      0.570928\n",
       "17      0.499029\n",
       "18      0.566745\n",
       "19      0.592784\n",
       "20      0.554945\n",
       "21      0.536388\n",
       "22      0.536278\n",
       "23      0.549828\n",
       "24      0.521236\n",
       "25      0.531915\n",
       "26      0.607306\n",
       "27      0.519313\n",
       "28      0.478448\n",
       "29      0.471503\n",
       "          ...   \n",
       "805     1.000000\n",
       "807     0.000000\n",
       "815     1.000000\n",
       "823     0.000000\n",
       "830     0.000000\n",
       "832     1.000000\n",
       "834     1.000000\n",
       "835     0.500000\n",
       "841     1.000000\n",
       "845     1.000000\n",
       "852     1.000000\n",
       "853     1.000000\n",
       "860     1.000000\n",
       "864     0.000000\n",
       "870     0.000000\n",
       "878     1.000000\n",
       "879     1.000000\n",
       "880     0.000000\n",
       "891     1.000000\n",
       "908     1.000000\n",
       "920     1.000000\n",
       "924     1.000000\n",
       "954     1.000000\n",
       "957     1.000000\n",
       "959     0.000000\n",
       "992     1.000000\n",
       "1017    1.000000\n",
       "1026    0.000000\n",
       "1027    0.000000\n",
       "1055    1.000000\n",
       "Name: churned, dtype: float64"
      ]
     },
     "execution_count": 20,
     "metadata": {},
     "output_type": "execute_result"
    }
   ],
   "source": [
    "rover.groupby(['service_added_to_complete']).churned.mean()"
   ]
  },
  {
   "cell_type": "code",
   "execution_count": 21,
   "metadata": {
    "collapsed": false
   },
   "outputs": [
    {
     "data": {
      "text/plain": [
       "account_added_to_complete\n",
       "0       0.514719\n",
       "1       0.465624\n",
       "2       0.481677\n",
       "3       0.488819\n",
       "4       0.491216\n",
       "5       0.488916\n",
       "6       0.520801\n",
       "7       0.534036\n",
       "8       0.549947\n",
       "9       0.563562\n",
       "10      0.566895\n",
       "11      0.556364\n",
       "12      0.571028\n",
       "13      0.568522\n",
       "14      0.546039\n",
       "15      0.574803\n",
       "16      0.552352\n",
       "17      0.543860\n",
       "18      0.569697\n",
       "19      0.576842\n",
       "20      0.549145\n",
       "21      0.563063\n",
       "22      0.520000\n",
       "23      0.565714\n",
       "24      0.565476\n",
       "25      0.503731\n",
       "26      0.576271\n",
       "27      0.509317\n",
       "28      0.481967\n",
       "29      0.527559\n",
       "          ...   \n",
       "2309    0.000000\n",
       "2335    1.000000\n",
       "2339    1.000000\n",
       "2375    1.000000\n",
       "2379    1.000000\n",
       "2383    0.000000\n",
       "2397    0.000000\n",
       "2400    0.000000\n",
       "2426    0.000000\n",
       "2448    0.000000\n",
       "2456    0.000000\n",
       "2464    0.000000\n",
       "2572    0.000000\n",
       "2580    0.000000\n",
       "2586    0.000000\n",
       "2612    1.000000\n",
       "2614    0.000000\n",
       "2628    0.000000\n",
       "2729    0.000000\n",
       "2821    0.000000\n",
       "2854    0.000000\n",
       "2875    0.000000\n",
       "2885    0.000000\n",
       "2920    1.000000\n",
       "3057    0.000000\n",
       "3077    0.000000\n",
       "3087    0.000000\n",
       "3103    0.000000\n",
       "3104    0.000000\n",
       "3119    1.000000\n",
       "Name: churned, dtype: float64"
      ]
     },
     "execution_count": 21,
     "metadata": {},
     "output_type": "execute_result"
    }
   ],
   "source": [
    "rover.groupby(['account_added_to_complete']).churned.mean()"
   ]
  },
  {
   "cell_type": "markdown",
   "metadata": {},
   "source": [
    "### Availability"
   ]
  },
  {
   "cell_type": "code",
   "execution_count": 22,
   "metadata": {
    "collapsed": false
   },
   "outputs": [
    {
     "data": {
      "text/plain": [
       "monday\n",
       "0    0.495035\n",
       "1    0.512463\n",
       "Name: churned, dtype: float64"
      ]
     },
     "execution_count": 22,
     "metadata": {},
     "output_type": "execute_result"
    }
   ],
   "source": [
    "rover.groupby(['monday']).churned.mean()"
   ]
  },
  {
   "cell_type": "code",
   "execution_count": 23,
   "metadata": {
    "collapsed": false
   },
   "outputs": [
    {
     "data": {
      "text/plain": [
       "tuesday\n",
       "0    0.497105\n",
       "1    0.512370\n",
       "Name: churned, dtype: float64"
      ]
     },
     "execution_count": 23,
     "metadata": {},
     "output_type": "execute_result"
    }
   ],
   "source": [
    "rover.groupby(['tuesday']).churned.mean()"
   ]
  },
  {
   "cell_type": "code",
   "execution_count": 24,
   "metadata": {
    "collapsed": false
   },
   "outputs": [
    {
     "data": {
      "text/plain": [
       "wednesday\n",
       "0    0.495331\n",
       "1    0.512478\n",
       "Name: churned, dtype: float64"
      ]
     },
     "execution_count": 24,
     "metadata": {},
     "output_type": "execute_result"
    }
   ],
   "source": [
    "rover.groupby(['wednesday']).churned.mean()"
   ]
  },
  {
   "cell_type": "code",
   "execution_count": 25,
   "metadata": {
    "collapsed": false
   },
   "outputs": [
    {
     "data": {
      "text/plain": [
       "thursday\n",
       "0    0.496969\n",
       "1    0.512270\n",
       "Name: churned, dtype: float64"
      ]
     },
     "execution_count": 25,
     "metadata": {},
     "output_type": "execute_result"
    }
   ],
   "source": [
    "rover.groupby(['thursday']).churned.mean()"
   ]
  },
  {
   "cell_type": "code",
   "execution_count": 26,
   "metadata": {
    "collapsed": false
   },
   "outputs": [
    {
     "data": {
      "text/plain": [
       "friday\n",
       "0    0.486846\n",
       "1    0.512259\n",
       "Name: churned, dtype: float64"
      ]
     },
     "execution_count": 26,
     "metadata": {},
     "output_type": "execute_result"
    }
   ],
   "source": [
    "rover.groupby(['friday']).churned.mean()"
   ]
  },
  {
   "cell_type": "code",
   "execution_count": 27,
   "metadata": {
    "collapsed": false
   },
   "outputs": [
    {
     "data": {
      "text/plain": [
       "saturday\n",
       "0    0.439882\n",
       "1    0.513986\n",
       "Name: churned, dtype: float64"
      ]
     },
     "execution_count": 27,
     "metadata": {},
     "output_type": "execute_result"
    }
   ],
   "source": [
    "rover.groupby(['saturday']).churned.mean()"
   ]
  },
  {
   "cell_type": "code",
   "execution_count": 28,
   "metadata": {
    "collapsed": false
   },
   "outputs": [
    {
     "data": {
      "text/plain": [
       "sunday\n",
       "0    0.484027\n",
       "1    0.512691\n",
       "Name: churned, dtype: float64"
      ]
     },
     "execution_count": 28,
     "metadata": {},
     "output_type": "execute_result"
    }
   ],
   "source": [
    "rover.groupby(['sunday']).churned.mean()"
   ]
  },
  {
   "cell_type": "markdown",
   "metadata": {},
   "source": [
    "### Provider Detail"
   ]
  },
  {
   "cell_type": "code",
   "execution_count": 29,
   "metadata": {
    "collapsed": false
   },
   "outputs": [
    {
     "data": {
      "text/plain": [
       "has_dog\n",
       "0    0.518568\n",
       "1    0.506652\n",
       "Name: churned, dtype: float64"
      ]
     },
     "execution_count": 29,
     "metadata": {},
     "output_type": "execute_result"
    }
   ],
   "source": [
    "rover.groupby(['has_dog']).churned.mean()"
   ]
  },
  {
   "cell_type": "code",
   "execution_count": 30,
   "metadata": {
    "collapsed": false
   },
   "outputs": [
    {
     "data": {
      "text/plain": [
       "protection_package\n",
       "0    0.514967\n",
       "1    0.497103\n",
       "Name: churned, dtype: float64"
      ]
     },
     "execution_count": 30,
     "metadata": {},
     "output_type": "execute_result"
    }
   ],
   "source": [
    "rover.groupby(['protection_package']).churned.mean()"
   ]
  },
  {
   "cell_type": "code",
   "execution_count": 31,
   "metadata": {
    "collapsed": false
   },
   "outputs": [
    {
     "data": {
      "text/plain": [
       "years_of_experience\n",
       "0          0.407930\n",
       "1          0.567646\n",
       "2          0.556527\n",
       "3          0.548137\n",
       "4          0.527721\n",
       "5          0.543487\n",
       "6          0.531690\n",
       "7          0.532149\n",
       "8          0.527818\n",
       "9          0.501623\n",
       "10         0.524652\n",
       "11         0.502841\n",
       "12         0.528529\n",
       "13         0.518553\n",
       "14         0.507661\n",
       "15         0.522883\n",
       "16         0.526590\n",
       "17         0.514774\n",
       "18         0.509074\n",
       "19         0.512397\n",
       "20         0.502929\n",
       "21         0.484330\n",
       "22         0.522822\n",
       "23         0.531765\n",
       "24         0.530435\n",
       "25         0.503073\n",
       "26         0.527778\n",
       "27         0.444444\n",
       "28         0.506726\n",
       "29         0.536765\n",
       "             ...   \n",
       "50         0.523511\n",
       "51         0.428571\n",
       "52         0.500000\n",
       "53         0.333333\n",
       "54         0.166667\n",
       "55         0.567568\n",
       "56         0.285714\n",
       "57         0.400000\n",
       "58         0.333333\n",
       "59         0.000000\n",
       "60         0.571429\n",
       "61         0.000000\n",
       "62         0.333333\n",
       "63         0.000000\n",
       "65         0.400000\n",
       "66         0.500000\n",
       "67         1.000000\n",
       "69         1.000000\n",
       "70         0.500000\n",
       "75         1.000000\n",
       "77         1.000000\n",
       "100        0.500000\n",
       "108        0.000000\n",
       "126        1.000000\n",
       "200        1.000000\n",
       "227        1.000000\n",
       "1989       1.000000\n",
       "2010       1.000000\n",
       "2012       1.000000\n",
       "1000000    0.000000\n",
       "Name: churned, dtype: float64"
      ]
     },
     "execution_count": 31,
     "metadata": {},
     "output_type": "execute_result"
    }
   ],
   "source": [
    "rover.groupby(['years_of_experience']).churned.mean()"
   ]
  },
  {
   "cell_type": "code",
   "execution_count": 42,
   "metadata": {
    "collapsed": false
   },
   "outputs": [
    {
     "data": {
      "text/plain": [
       "<matplotlib.axes._subplots.AxesSubplot at 0x11bc69c50>"
      ]
     },
     "execution_count": 42,
     "metadata": {},
     "output_type": "execute_result"
    },
    {
     "data": {
      "image/png": "[encoded data removed]",
      "text/plain": [
       "<matplotlib.figure.Figure at 0x11cb4bfd0>"
      ]
     },
     "metadata": {},
     "output_type": "display_data"
    }
   ],
   "source": [
    "rover.boxplot(column='years_of_experience', by='churned')"
   ]
  },
  {
   "cell_type": "code",
   "execution_count": 32,
   "metadata": {
    "collapsed": false
   },
   "outputs": [
    {
     "data": {
      "text/plain": [
       "dogs_on_furniture\n",
       "0.0    0.526055\n",
       "1.0    0.514598\n",
       "Name: churned, dtype: float64"
      ]
     },
     "execution_count": 32,
     "metadata": {},
     "output_type": "execute_result"
    }
   ],
   "source": [
    "rover.groupby(['dogs_on_furniture']).churned.mean()"
   ]
  },
  {
   "cell_type": "code",
   "execution_count": 33,
   "metadata": {
    "collapsed": false
   },
   "outputs": [
    {
     "data": {
      "text/plain": [
       "children_in_home\n",
       "0    0.511845\n",
       "1    0.506437\n",
       "Name: churned, dtype: float64"
      ]
     },
     "execution_count": 33,
     "metadata": {},
     "output_type": "execute_result"
    }
   ],
   "source": [
    "rover.groupby(['children_in_home']).churned.mean()"
   ]
  },
  {
   "cell_type": "code",
   "execution_count": 34,
   "metadata": {
    "collapsed": false
   },
   "outputs": [
    {
     "data": {
      "text/plain": [
       "testimonial_requests\n",
       "0     0.313426\n",
       "1     0.536671\n",
       "2     0.547398\n",
       "3     0.546407\n",
       "4     0.554689\n",
       "5     0.556771\n",
       "6     0.564192\n",
       "7     0.567449\n",
       "8     0.587500\n",
       "9     0.600858\n",
       "10    0.571429\n",
       "11    0.510417\n",
       "12    0.581818\n",
       "13    0.656250\n",
       "14    0.636364\n",
       "15    0.529412\n",
       "16    0.625000\n",
       "17    0.833333\n",
       "18    0.400000\n",
       "19    0.375000\n",
       "20    0.571429\n",
       "21    0.833333\n",
       "22    0.000000\n",
       "23    1.000000\n",
       "24    1.000000\n",
       "26    1.000000\n",
       "28    0.000000\n",
       "29    0.500000\n",
       "30    0.500000\n",
       "31    1.000000\n",
       "32    0.500000\n",
       "34    1.000000\n",
       "36    1.000000\n",
       "39    1.000000\n",
       "53    1.000000\n",
       "99    1.000000\n",
       "Name: churned, dtype: float64"
      ]
     },
     "execution_count": 34,
     "metadata": {},
     "output_type": "execute_result"
    }
   ],
   "source": [
    "rover.groupby(['testimonial_requests']).churned.mean()"
   ]
  },
  {
   "cell_type": "code",
   "execution_count": 39,
   "metadata": {
    "collapsed": false
   },
   "outputs": [
    {
     "data": {
      "text/plain": [
       "<matplotlib.axes._subplots.AxesSubplot at 0x11bab1790>"
      ]
     },
     "execution_count": 39,
     "metadata": {},
     "output_type": "execute_result"
    },
    {
     "data": {
      "image/png": "[encoded data removed]",
      "text/plain": [
       "<matplotlib.figure.Figure at 0x11bb69390>"
      ]
     },
     "metadata": {},
     "output_type": "display_data"
    }
   ],
   "source": [
    "rover.boxplot(column='testimonial_requests', by='churned')"
   ]
  },
  {
   "cell_type": "markdown",
   "metadata": {},
   "source": [
    "### Home Type"
   ]
  },
  {
   "cell_type": "code",
   "execution_count": 35,
   "metadata": {
    "collapsed": false
   },
   "outputs": [
    {
     "data": {
      "text/plain": [
       "building_home\n",
       "0    0.518225\n",
       "1    0.500975\n",
       "Name: churned, dtype: float64"
      ]
     },
     "execution_count": 35,
     "metadata": {},
     "output_type": "execute_result"
    }
   ],
   "source": [
    "rover.groupby(['building_home']).churned.mean()"
   ]
  },
  {
   "cell_type": "code",
   "execution_count": 36,
   "metadata": {
    "collapsed": false
   },
   "outputs": [
    {
     "data": {
      "text/plain": [
       "building_apartment\n",
       "0    0.510956\n",
       "1    0.512290\n",
       "Name: churned, dtype: float64"
      ]
     },
     "execution_count": 36,
     "metadata": {},
     "output_type": "execute_result"
    }
   ],
   "source": [
    "rover.groupby(['building_apartment']).churned.mean()"
   ]
  },
  {
   "cell_type": "code",
   "execution_count": 37,
   "metadata": {
    "collapsed": false
   },
   "outputs": [
    {
     "data": {
      "text/plain": [
       "building_farm\n",
       "0    0.511093\n",
       "1    0.538799\n",
       "Name: churned, dtype: float64"
      ]
     },
     "execution_count": 37,
     "metadata": {},
     "output_type": "execute_result"
    }
   ],
   "source": [
    "rover.groupby(['building_farm']).churned.mean()"
   ]
  },
  {
   "cell_type": "code",
   "execution_count": 38,
   "metadata": {
    "collapsed": false
   },
   "outputs": [
    {
     "data": {
      "text/plain": [
       "building_unknown\n",
       "0    0.505781\n",
       "1    0.522209\n",
       "Name: churned, dtype: float64"
      ]
     },
     "execution_count": 38,
     "metadata": {},
     "output_type": "execute_result"
    }
   ],
   "source": [
    "rover.groupby(['building_unknown']).churned.mean()"
   ]
  },
  {
   "cell_type": "markdown",
   "metadata": {},
   "source": [
    "### Model"
   ]
  },
  {
   "cell_type": "code",
   "execution_count": 46,
   "metadata": {
    "collapsed": false
   },
   "outputs": [
    {
     "name": "stdout",
     "output_type": "stream",
     "text": [
      "0.56938722966\n"
     ]
    },
    {
     "data": {
      "text/plain": [
       "[('listed_boarding', 0.23987272783394414),\n",
       " ('listed_traveling', 0.29510975719490434),\n",
       " ('listed_walking', -0.60418303906203863),\n",
       " ('listed_daycare', 0.081652224106799814),\n",
       " ('listed_dropin', 0.71279676018058857),\n",
       " ('friday', -0.042911112347424313),\n",
       " ('saturday', 0.19947444599296232),\n",
       " ('sunday', -0.096244213969307824),\n",
       " ('protection_package', -0.083316640389483235),\n",
       " ('testimonial_requests', 0.083803279354130622)]"
      ]
     },
     "execution_count": 46,
     "metadata": {},
     "output_type": "execute_result"
    }
   ],
   "source": [
    "feature_cols = ['listed_boarding', 'listed_traveling', 'listed_walking', 'listed_daycare', 'listed_dropin', 'friday', 'saturday', 'sunday', 'protection_package', 'testimonial_requests']\n",
    "X = rover[feature_cols]\n",
    "y = rover.churned\n",
    "\n",
    "# train/test split\n",
    "from sklearn.cross_validation import train_test_split\n",
    "X_train, X_test, y_train, y_test = train_test_split(X, y, random_state=123)\n",
    "\n",
    "# train a logistic regression model\n",
    "from sklearn.linear_model import LogisticRegression\n",
    "logreg = LogisticRegression(C=1e9)\n",
    "logreg.fit(X_train, y_train)\n",
    "\n",
    "# make predictions for testing set\n",
    "y_pred_class = logreg.predict(X_test)\n",
    "\n",
    "# calculate testing accuracy\n",
    "from sklearn import metrics\n",
    "print metrics.accuracy_score(y_test, y_pred_class)\n",
    "\n",
    "zip(feature_cols, logreg.coef_[0])"
   ]
  },
  {
   "cell_type": "code",
   "execution_count": null,
   "metadata": {
    "collapsed": true
   },
   "outputs": [],
   "source": []
  }
 ],
 "metadata": {
  "anaconda-cloud": {},
  "kernelspec": {
   "display_name": "Python [Root]",
   "language": "python",
   "name": "Python [Root]"
  },
  "language_info": {
   "codemirror_mode": {
    "name": "ipython",
    "version": 2
   },
   "file_extension": ".py",
   "mimetype": "text/x-python",
   "name": "python",
   "nbconvert_exporter": "python",
   "pygments_lexer": "ipython2",
   "version": "2.7.12"
  }
 },
 "nbformat": 4,
 "nbformat_minor": 0
}
