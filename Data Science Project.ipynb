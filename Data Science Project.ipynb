{
 "cells": [
  {
   "cell_type": "markdown",
   "metadata": {},
   "source": [
    "## Question\n",
    "\n",
    "### Can you predict if a sitter will have churned 180 days after they were approved at the point when their profile is approved?"
   ]
  },
  {
   "cell_type": "markdown",
   "metadata": {},
   "source": [
    "## Data Import, Merge, Initial Look"
   ]
  },
  {
   "cell_type": "code",
   "execution_count": 25,
   "metadata": {
    "collapsed": false
   },
   "outputs": [
    {
     "data": {
      "text/html": [
       "<div>\n",
       "<table border=\"1\" class=\"dataframe\">\n",
       "  <thead>\n",
       "    <tr style=\"text-align: right;\">\n",
       "      <th></th>\n",
       "      <th>month_signed_up</th>\n",
       "      <th>utm_source</th>\n",
       "      <th>utm_campaign</th>\n",
       "      <th>photos</th>\n",
       "      <th>cbsa_code</th>\n",
       "      <th>listed_boarding</th>\n",
       "      <th>listed_traveling</th>\n",
       "      <th>listed_walking</th>\n",
       "      <th>listed_dropin</th>\n",
       "      <th>listed_daycare</th>\n",
       "      <th>...</th>\n",
       "      <th>years_of_experience</th>\n",
       "      <th>dogs_on_furniture</th>\n",
       "      <th>children_in_home</th>\n",
       "      <th>building_home</th>\n",
       "      <th>building_apartment</th>\n",
       "      <th>building_farm</th>\n",
       "      <th>building_unknown</th>\n",
       "      <th>testimonial_requests</th>\n",
       "      <th>photos</th>\n",
       "      <th>churned</th>\n",
       "    </tr>\n",
       "    <tr>\n",
       "      <th>id</th>\n",
       "      <th></th>\n",
       "      <th></th>\n",
       "      <th></th>\n",
       "      <th></th>\n",
       "      <th></th>\n",
       "      <th></th>\n",
       "      <th></th>\n",
       "      <th></th>\n",
       "      <th></th>\n",
       "      <th></th>\n",
       "      <th></th>\n",
       "      <th></th>\n",
       "      <th></th>\n",
       "      <th></th>\n",
       "      <th></th>\n",
       "      <th></th>\n",
       "      <th></th>\n",
       "      <th></th>\n",
       "      <th></th>\n",
       "      <th></th>\n",
       "      <th></th>\n",
       "    </tr>\n",
       "  </thead>\n",
       "  <tbody>\n",
       "    <tr>\n",
       "      <th>121937</th>\n",
       "      <td>4</td>\n",
       "      <td>none</td>\n",
       "      <td>none</td>\n",
       "      <td>4</td>\n",
       "      <td>31080.0</td>\n",
       "      <td>1</td>\n",
       "      <td>1</td>\n",
       "      <td>0</td>\n",
       "      <td>1</td>\n",
       "      <td>0</td>\n",
       "      <td>...</td>\n",
       "      <td>0</td>\n",
       "      <td>2</td>\n",
       "      <td>0</td>\n",
       "      <td>0</td>\n",
       "      <td>1</td>\n",
       "      <td>0</td>\n",
       "      <td>0</td>\n",
       "      <td>0</td>\n",
       "      <td>4</td>\n",
       "      <td>0</td>\n",
       "    </tr>\n",
       "    <tr>\n",
       "      <th>121941</th>\n",
       "      <td>4</td>\n",
       "      <td>none</td>\n",
       "      <td>none</td>\n",
       "      <td>16</td>\n",
       "      <td>16740.0</td>\n",
       "      <td>1</td>\n",
       "      <td>1</td>\n",
       "      <td>0</td>\n",
       "      <td>0</td>\n",
       "      <td>1</td>\n",
       "      <td>...</td>\n",
       "      <td>15</td>\n",
       "      <td>1</td>\n",
       "      <td>1</td>\n",
       "      <td>1</td>\n",
       "      <td>0</td>\n",
       "      <td>0</td>\n",
       "      <td>0</td>\n",
       "      <td>0</td>\n",
       "      <td>16</td>\n",
       "      <td>1</td>\n",
       "    </tr>\n",
       "    <tr>\n",
       "      <th>121960</th>\n",
       "      <td>4</td>\n",
       "      <td>none</td>\n",
       "      <td>none</td>\n",
       "      <td>4</td>\n",
       "      <td>25420.0</td>\n",
       "      <td>1</td>\n",
       "      <td>1</td>\n",
       "      <td>0</td>\n",
       "      <td>1</td>\n",
       "      <td>0</td>\n",
       "      <td>...</td>\n",
       "      <td>2</td>\n",
       "      <td>1</td>\n",
       "      <td>0</td>\n",
       "      <td>1</td>\n",
       "      <td>0</td>\n",
       "      <td>0</td>\n",
       "      <td>0</td>\n",
       "      <td>0</td>\n",
       "      <td>4</td>\n",
       "      <td>0</td>\n",
       "    </tr>\n",
       "    <tr>\n",
       "      <th>121969</th>\n",
       "      <td>4</td>\n",
       "      <td>LT-lead-gen</td>\n",
       "      <td>craigslist-job-posting</td>\n",
       "      <td>15</td>\n",
       "      <td>17460.0</td>\n",
       "      <td>1</td>\n",
       "      <td>1</td>\n",
       "      <td>0</td>\n",
       "      <td>1</td>\n",
       "      <td>0</td>\n",
       "      <td>...</td>\n",
       "      <td>0</td>\n",
       "      <td>2</td>\n",
       "      <td>0</td>\n",
       "      <td>1</td>\n",
       "      <td>0</td>\n",
       "      <td>0</td>\n",
       "      <td>0</td>\n",
       "      <td>0</td>\n",
       "      <td>15</td>\n",
       "      <td>0</td>\n",
       "    </tr>\n",
       "    <tr>\n",
       "      <th>121972</th>\n",
       "      <td>4</td>\n",
       "      <td>none</td>\n",
       "      <td>lt+lead+gen</td>\n",
       "      <td>11</td>\n",
       "      <td>31080.0</td>\n",
       "      <td>1</td>\n",
       "      <td>1</td>\n",
       "      <td>0</td>\n",
       "      <td>0</td>\n",
       "      <td>0</td>\n",
       "      <td>...</td>\n",
       "      <td>15</td>\n",
       "      <td>1</td>\n",
       "      <td>0</td>\n",
       "      <td>1</td>\n",
       "      <td>0</td>\n",
       "      <td>0</td>\n",
       "      <td>0</td>\n",
       "      <td>0</td>\n",
       "      <td>11</td>\n",
       "      <td>0</td>\n",
       "    </tr>\n",
       "  </tbody>\n",
       "</table>\n",
       "<p>5 rows × 31 columns</p>\n",
       "</div>"
      ],
      "text/plain": [
       "        month_signed_up   utm_source            utm_campaign  photos  \\\n",
       "id                                                                     \n",
       "121937                4         none                    none       4   \n",
       "121941                4         none                    none      16   \n",
       "121960                4         none                    none       4   \n",
       "121969                4  LT-lead-gen  craigslist-job-posting      15   \n",
       "121972                4         none             lt+lead+gen      11   \n",
       "\n",
       "        cbsa_code  listed_boarding  listed_traveling  listed_walking  \\\n",
       "id                                                                     \n",
       "121937    31080.0                1                 1               0   \n",
       "121941    16740.0                1                 1               0   \n",
       "121960    25420.0                1                 1               0   \n",
       "121969    17460.0                1                 1               0   \n",
       "121972    31080.0                1                 1               0   \n",
       "\n",
       "        listed_dropin  listed_daycare   ...     years_of_experience  \\\n",
       "id                                      ...                           \n",
       "121937              1               0   ...                       0   \n",
       "121941              0               1   ...                      15   \n",
       "121960              1               0   ...                       2   \n",
       "121969              1               0   ...                       0   \n",
       "121972              0               0   ...                      15   \n",
       "\n",
       "        dogs_on_furniture  children_in_home  building_home  \\\n",
       "id                                                           \n",
       "121937                  2                 0              0   \n",
       "121941                  1                 1              1   \n",
       "121960                  1                 0              1   \n",
       "121969                  2                 0              1   \n",
       "121972                  1                 0              1   \n",
       "\n",
       "        building_apartment  building_farm  building_unknown  \\\n",
       "id                                                            \n",
       "121937                   1              0                 0   \n",
       "121941                   0              0                 0   \n",
       "121960                   0              0                 0   \n",
       "121969                   0              0                 0   \n",
       "121972                   0              0                 0   \n",
       "\n",
       "        testimonial_requests  photos  churned  \n",
       "id                                             \n",
       "121937                     0       4        0  \n",
       "121941                     0      16        1  \n",
       "121960                     0       4        0  \n",
       "121969                     0      15        0  \n",
       "121972                     0      11        0  \n",
       "\n",
       "[5 rows x 31 columns]"
      ]
     },
     "execution_count": 25,
     "metadata": {},
     "output_type": "execute_result"
    }
   ],
   "source": [
    "import pandas as pd\n",
    "path = '../Data Science Class/'\n",
    "url1 = path + 'AllSittersApprovedAtLeast180DaysAgoFile1.csv'\n",
    "url2 = path + 'AllSittersApprovedAtLeast180DaysAgoFile2.csv'\n",
    "url3 = path + 'AllSittersApprovedAtLeast180DaysAgoFile3.csv'\n",
    "rover1 = pd.read_csv(url1, index_col='id')\n",
    "rover2 = pd.read_csv(url2, index_col='id')\n",
    "rover3 = pd.read_csv(url3, index_col='id')\n",
    "\n",
    "frames = [rover1, rover2, rover3]\n",
    "\n",
    "rover = pd.concat(frames, axis = 1)\n",
    "\n",
    "rover.head()"
   ]
  },
  {
   "cell_type": "code",
   "execution_count": 26,
   "metadata": {
    "collapsed": false
   },
   "outputs": [
    {
     "data": {
      "text/plain": [
       "Index([u'month_signed_up', u'utm_source', u'utm_campaign', u'photos',\n",
       "       u'cbsa_code', u'listed_boarding', u'listed_traveling',\n",
       "       u'listed_walking', u'listed_dropin', u'listed_daycare',\n",
       "       u'month_signed_up', u'monday', u'tuesday', u'wednesday', u'thursday',\n",
       "       u'friday', u'saturday', u'sunday', u'has_dog', u'protection_package',\n",
       "       u'month_signed_up', u'years_of_experience', u'dogs_on_furniture',\n",
       "       u'children_in_home', u'building_home', u'building_apartment',\n",
       "       u'building_farm', u'building_unknown', u'testimonial_requests',\n",
       "       u'photos', u'churned'],\n",
       "      dtype='object')"
      ]
     },
     "execution_count": 26,
     "metadata": {},
     "output_type": "execute_result"
    }
   ],
   "source": [
    "rover.columns"
   ]
  },
  {
   "cell_type": "code",
   "execution_count": 75,
   "metadata": {
    "collapsed": true
   },
   "outputs": [],
   "source": [
    "import matplotlib.pyplot as plt\n",
    "%matplotlib inline"
   ]
  },
  {
   "cell_type": "markdown",
   "metadata": {},
   "source": [
    "## Response Variable"
   ]
  },
  {
   "cell_type": "code",
   "execution_count": 28,
   "metadata": {
    "collapsed": false
   },
   "outputs": [
    {
     "name": "stdout",
     "output_type": "stream",
     "text": [
      "51742\n",
      "96125\n"
     ]
    }
   ],
   "source": [
    "print rover.churned.sum() ## number churned\n",
    "print rover.churned.count() ## total in file"
   ]
  },
  {
   "cell_type": "markdown",
   "metadata": {},
   "source": [
    "At 180 Days after your profile was first approved, you meet the following conditions:\n",
    "\n",
    "Your profile is inactive (Explicit)\n",
    "OR\n",
    "You have not had an Event in the past 100 days* (Implicit)\n",
    "\n",
    "*Less than 10% of sitters return who haven’t had an event in the past 100 days"
   ]
  },
  {
   "cell_type": "markdown",
   "metadata": {},
   "source": [
    "## Evaluating Features"
   ]
  },
  {
   "cell_type": "markdown",
   "metadata": {},
   "source": [
    "### Month Signed Up"
   ]
  },
  {
   "cell_type": "code",
   "execution_count": 29,
   "metadata": {
    "collapsed": false
   },
   "outputs": [
    {
     "data": {
      "text/plain": [
       "<matplotlib.axes._subplots.AxesSubplot at 0x115989850>"
      ]
     },
     "execution_count": 29,
     "metadata": {},
     "output_type": "execute_result"
    },
    {
     "data": {
      "image/png": "[encoded data removed]",
      "text/plain": [
       "<matplotlib.figure.Figure at 0x11597ab10>"
      ]
     },
     "metadata": {},
     "output_type": "display_data"
    }
   ],
   "source": [
    "rover.boxplot(column='month_signed_up', by='churned')"
   ]
  },
  {
   "cell_type": "markdown",
   "metadata": {
    "collapsed": false
   },
   "source": [
    "### Photos"
   ]
  },
  {
   "cell_type": "code",
   "execution_count": 84,
   "metadata": {
    "collapsed": false
   },
   "outputs": [
    {
     "data": {
      "text/plain": [
       "<matplotlib.axes._subplots.AxesSubplot at 0x11fa955d0>"
      ]
     },
     "execution_count": 84,
     "metadata": {},
     "output_type": "execute_result"
    },
    {
     "data": {
      "image/png": "[encoded data removed]",
      "text/plain": [
       "<matplotlib.figure.Figure at 0x11fa95c10>"
      ]
     },
     "metadata": {},
     "output_type": "display_data"
    }
   ],
   "source": [
    "rover.boxplot(column='photos', by='churned')"
   ]
  },
  {
   "cell_type": "markdown",
   "metadata": {},
   "source": [
    "### Marketing Source"
   ]
  },
  {
   "cell_type": "code",
   "execution_count": 85,
   "metadata": {
    "collapsed": false
   },
   "outputs": [
    {
     "data": {
      "text/plain": [
       "utm_source\n",
       " embracepetinsurance.com     0.000000\n",
       "24petwatch.com               0.461538\n",
       "AAA                          0.500000\n",
       "AARP-Career-Fair             0.500000\n",
       "AARP_Career_Fair             0.000000\n",
       "AdRoll                       0.318182\n",
       "Amazon                       0.000000\n",
       "BarkBox                      1.000000\n",
       "CAG                          0.300000\n",
       "CL-SSP                       0.142857\n",
       "Craigslist_LT                0.500000\n",
       "Direct-SSP                   0.294118\n",
       "DockDogs+event               0.000000\n",
       "ET                           0.516529\n",
       "ExactTarget                  1.000000\n",
       "FB-SSP                       0.200000\n",
       "Facebook                     0.625000\n",
       "FamilyPet                    0.000000\n",
       "FlexJobs                     0.000000\n",
       "FlierAd                      0.000000\n",
       "Furry5k Pet-a-Palooza        0.250000\n",
       "GPL+seattle                  0.000000\n",
       "Google-Plus-Local            0.000000\n",
       "HSUS                         0.400000\n",
       "Instagram                    0.553191\n",
       "JobDiagnosis                 0.571429\n",
       "LT-lead-gen                  0.352459\n",
       "Magnuson_Park                0.500000\n",
       "PMI_Recruiting               0.500000\n",
       "PSPCA                        0.000000\n",
       "                               ...   \n",
       "simplyhired                  0.565217\n",
       "simplyhired.com              0.578755\n",
       "sitter self promotion        0.500000\n",
       "sitter+self+promotion        0.000000\n",
       "sitter_display_ads           0.714286\n",
       "sittercity                   0.621429\n",
       "snagajob                     0.895833\n",
       "social_ads                   0.000000\n",
       "themuse                      0.687500\n",
       "triberr.com                  0.000000\n",
       "troopswap.com                0.000000\n",
       "twitter                      0.333333\n",
       "university                   0.700000\n",
       "volunteer-spot               0.750000\n",
       "volunteermatch               0.500000\n",
       "wildatwork.com               0.000000\n",
       "wooftrax                     0.560000\n",
       "yahoo                        1.000000\n",
       "yelp                         0.600000\n",
       "yelp+boston                  1.000000\n",
       "yelp+los-angeles             0.000000\n",
       "yelp+new+york                0.000000\n",
       "yelp+philadelphia            0.000000\n",
       "yelp+seattle                 0.000000\n",
       "yelp.com                     0.401338\n",
       "yext_directories             0.250000\n",
       "yorkiefriendzy.com           0.000000\n",
       "youswoop.com                 1.000000\n",
       "zip_recruiter                0.640466\n",
       "ziprecruiter                 0.866667\n",
       "Name: churned, dtype: float64"
      ]
     },
     "execution_count": 85,
     "metadata": {},
     "output_type": "execute_result"
    }
   ],
   "source": [
    "rover.groupby(['utm_source']).churned.mean()"
   ]
  },
  {
   "cell_type": "code",
   "execution_count": 86,
   "metadata": {
    "collapsed": false
   },
   "outputs": [
    {
     "data": {
      "text/plain": [
       "utm_campaign\n",
       "$50-member-benefits-offer        0.500000\n",
       "%%emailname_%%                   0.461538\n",
       "041416180001                     0.750000\n",
       "041916190002                     0.000000\n",
       "042016190001                     0.000000\n",
       "042016190002                     0.000000\n",
       "042116180001                     0.750000\n",
       "042216130001                     1.000000\n",
       "042216180002                     0.764706\n",
       "042616190000                     0.000000\n",
       "042616190002                     1.000000\n",
       "042716190001                     1.000000\n",
       "042716190002                     1.000000\n",
       "042916160002                     1.000000\n",
       "042916160003                     1.000000\n",
       "042916160303                     1.000000\n",
       "050116130301                     1.000000\n",
       "05012016150002                   1.000000\n",
       "050216190001                     1.000000\n",
       "050316190000                     1.000000\n",
       "082014140101                     0.000000\n",
       "100OnDemand                      0.750000\n",
       "11.24.14-$40-Offer-Follow-Up     0.000000\n",
       "112286037                        0.538462\n",
       "112286038                        0.500000\n",
       "112286039                        0.510204\n",
       "112286040                        0.622951\n",
       "112286041                        0.833333\n",
       "112286042                        0.625000\n",
       "112286043                        1.000000\n",
       "                                   ...   \n",
       "yelp-orlando-fl                  0.000000\n",
       "yelp-oxnard-ca                   0.000000\n",
       "yelp-palo alto-ca                0.500000\n",
       "yelp-philadelphia-pa             0.000000\n",
       "yelp-phoenix-az                  0.000000\n",
       "yelp-portland-or                 0.000000\n",
       "yelp-queens-ny                   0.500000\n",
       "yelp-raleigh-nc                  0.000000\n",
       "yelp-reston-va                   0.000000\n",
       "yelp-riverside-ca                0.000000\n",
       "yelp-sacramento-ca               0.666667\n",
       "yelp-san francisco-ca            0.250000\n",
       "yelp-san jose-ca                 0.000000\n",
       "yelp-san-diego-ca                0.166667\n",
       "yelp-san-francisco-ca            0.400000\n",
       "yelp-san-jose-ca                 0.500000\n",
       "yelp-seattle-wa                  0.250000\n",
       "yelp-tacoma-wa                   1.000000\n",
       "yelp-tampa-fl                    0.500000\n",
       "yelp-tucson-az                   0.500000\n",
       "yelp-virginia-beach-va           0.000000\n",
       "yelp-washington-dc-dc            0.400000\n",
       "yext_avondale_az_listings        0.000000\n",
       "yext_baltimore_md_listings       1.000000\n",
       "yext_chandler_az_listings        0.000000\n",
       "yext_miami_fl_listings           0.000000\n",
       "yext_murfreesboro_tn_listings    0.000000\n",
       "yext_port_orchard_wa_listings    0.000000\n",
       "yext_worcester_ma_listings       0.000000\n",
       "youswoop-daily-deal              1.000000\n",
       "Name: churned, dtype: float64"
      ]
     },
     "execution_count": 86,
     "metadata": {},
     "output_type": "execute_result"
    }
   ],
   "source": [
    "rover.groupby(['utm_campaign']).churned.mean()"
   ]
  },
  {
   "cell_type": "markdown",
   "metadata": {},
   "source": [
    "### CBSA Code"
   ]
  },
  {
   "cell_type": "code",
   "execution_count": 33,
   "metadata": {
    "collapsed": false
   },
   "outputs": [
    {
     "data": {
      "text/plain": [
       "cbsa_code\n",
       "10100.0    0.500000\n",
       "10140.0    0.400000\n",
       "10180.0    0.625000\n",
       "10220.0    0.000000\n",
       "10300.0    0.600000\n",
       "10420.0    0.482353\n",
       "10460.0    0.333333\n",
       "10500.0    0.333333\n",
       "10540.0    0.333333\n",
       "10580.0    0.460177\n",
       "10620.0    0.666667\n",
       "10700.0    0.500000\n",
       "10740.0    0.521053\n",
       "10780.0    0.750000\n",
       "10820.0    0.250000\n",
       "10900.0    0.453782\n",
       "10940.0    0.333333\n",
       "11020.0    0.666667\n",
       "11100.0    0.352941\n",
       "11180.0    0.454545\n",
       "11260.0    0.425532\n",
       "11460.0    0.495868\n",
       "11500.0    0.250000\n",
       "11540.0    0.454545\n",
       "11660.0    1.000000\n",
       "11700.0    0.554348\n",
       "11740.0    0.500000\n",
       "11780.0    0.666667\n",
       "11820.0    0.250000\n",
       "11900.0    0.375000\n",
       "             ...   \n",
       "48060.0    0.733333\n",
       "48140.0    0.857143\n",
       "48220.0    1.000000\n",
       "48260.0    0.333333\n",
       "48300.0    0.700000\n",
       "48460.0    0.000000\n",
       "48540.0    0.500000\n",
       "48580.0    0.615385\n",
       "48620.0    0.540000\n",
       "48660.0    0.583333\n",
       "48700.0    0.750000\n",
       "48820.0    0.333333\n",
       "48900.0    0.460993\n",
       "48940.0    0.000000\n",
       "48980.0    0.666667\n",
       "49020.0    0.666667\n",
       "49080.0    0.000000\n",
       "49100.0    0.714286\n",
       "49180.0    0.543478\n",
       "49220.0    1.000000\n",
       "49300.0    0.400000\n",
       "49340.0    0.626437\n",
       "49420.0    0.666667\n",
       "49460.0    0.000000\n",
       "49620.0    0.511111\n",
       "49660.0    0.600000\n",
       "49700.0    0.631579\n",
       "49740.0    0.600000\n",
       "49780.0    0.333333\n",
       "49820.0    1.000000\n",
       "Name: churned, dtype: float64"
      ]
     },
     "execution_count": 33,
     "metadata": {},
     "output_type": "execute_result"
    }
   ],
   "source": [
    "rover.groupby(['cbsa_code']).churned.mean()"
   ]
  },
  {
   "cell_type": "markdown",
   "metadata": {},
   "source": [
    "### Service Type\n"
   ]
  },
  {
   "cell_type": "code",
   "execution_count": 34,
   "metadata": {
    "collapsed": false
   },
   "outputs": [
    {
     "data": {
      "text/plain": [
       "listed_boarding\n",
       "0    0.641888\n",
       "1    0.480332\n",
       "Name: churned, dtype: float64"
      ]
     },
     "execution_count": 34,
     "metadata": {},
     "output_type": "execute_result"
    }
   ],
   "source": [
    "rover.groupby(['listed_boarding']).churned.mean()"
   ]
  },
  {
   "cell_type": "code",
   "execution_count": 35,
   "metadata": {
    "collapsed": false
   },
   "outputs": [
    {
     "data": {
      "text/plain": [
       "listed_traveling\n",
       "0    0.525350\n",
       "1    0.545006\n",
       "Name: churned, dtype: float64"
      ]
     },
     "execution_count": 35,
     "metadata": {},
     "output_type": "execute_result"
    }
   ],
   "source": [
    "rover.groupby(['listed_traveling']).churned.mean()"
   ]
  },
  {
   "cell_type": "code",
   "execution_count": 36,
   "metadata": {
    "collapsed": false
   },
   "outputs": [
    {
     "data": {
      "text/plain": [
       "listed_walking\n",
       "0    0.551582\n",
       "1    0.523384\n",
       "Name: churned, dtype: float64"
      ]
     },
     "execution_count": 36,
     "metadata": {},
     "output_type": "execute_result"
    }
   ],
   "source": [
    "rover.groupby(['listed_walking']).churned.mean()"
   ]
  },
  {
   "cell_type": "code",
   "execution_count": 37,
   "metadata": {
    "collapsed": false
   },
   "outputs": [
    {
     "data": {
      "text/plain": [
       "listed_dropin\n",
       "0    0.553078\n",
       "1    0.528626\n",
       "Name: churned, dtype: float64"
      ]
     },
     "execution_count": 37,
     "metadata": {},
     "output_type": "execute_result"
    }
   ],
   "source": [
    "rover.groupby(['listed_dropin']).churned.mean()"
   ]
  },
  {
   "cell_type": "code",
   "execution_count": 38,
   "metadata": {
    "collapsed": false
   },
   "outputs": [
    {
     "data": {
      "text/plain": [
       "listed_daycare\n",
       "0    0.579164\n",
       "1    0.417425\n",
       "Name: churned, dtype: float64"
      ]
     },
     "execution_count": 38,
     "metadata": {},
     "output_type": "execute_result"
    }
   ],
   "source": [
    "rover.groupby(['listed_daycare']).churned.mean()"
   ]
  },
  {
   "cell_type": "markdown",
   "metadata": {},
   "source": [
    "### Availability"
   ]
  },
  {
   "cell_type": "code",
   "execution_count": 39,
   "metadata": {
    "collapsed": false
   },
   "outputs": [
    {
     "data": {
      "text/plain": [
       "monday\n",
       "0    0.571965\n",
       "1    0.535879\n",
       "Name: churned, dtype: float64"
      ]
     },
     "execution_count": 39,
     "metadata": {},
     "output_type": "execute_result"
    }
   ],
   "source": [
    "rover.groupby(['monday']).churned.mean()"
   ]
  },
  {
   "cell_type": "code",
   "execution_count": 40,
   "metadata": {
    "collapsed": false
   },
   "outputs": [
    {
     "data": {
      "text/plain": [
       "tuesday\n",
       "0    0.564225\n",
       "1    0.536333\n",
       "Name: churned, dtype: float64"
      ]
     },
     "execution_count": 40,
     "metadata": {},
     "output_type": "execute_result"
    }
   ],
   "source": [
    "rover.groupby(['tuesday']).churned.mean()"
   ]
  },
  {
   "cell_type": "code",
   "execution_count": 41,
   "metadata": {
    "collapsed": false
   },
   "outputs": [
    {
     "data": {
      "text/plain": [
       "wednesday\n",
       "0    0.558182\n",
       "1    0.536821\n",
       "Name: churned, dtype: float64"
      ]
     },
     "execution_count": 41,
     "metadata": {},
     "output_type": "execute_result"
    }
   ],
   "source": [
    "rover.groupby(['wednesday']).churned.mean()"
   ]
  },
  {
   "cell_type": "code",
   "execution_count": 42,
   "metadata": {
    "collapsed": false
   },
   "outputs": [
    {
     "data": {
      "text/plain": [
       "thursday\n",
       "0    0.560291\n",
       "1    0.536799\n",
       "Name: churned, dtype: float64"
      ]
     },
     "execution_count": 42,
     "metadata": {},
     "output_type": "execute_result"
    }
   ],
   "source": [
    "rover.groupby(['thursday']).churned.mean()"
   ]
  },
  {
   "cell_type": "code",
   "execution_count": 43,
   "metadata": {
    "collapsed": false
   },
   "outputs": [
    {
     "data": {
      "text/plain": [
       "friday\n",
       "0    0.591073\n",
       "1    0.536220\n",
       "Name: churned, dtype: float64"
      ]
     },
     "execution_count": 43,
     "metadata": {},
     "output_type": "execute_result"
    }
   ],
   "source": [
    "rover.groupby(['friday']).churned.mean()"
   ]
  },
  {
   "cell_type": "code",
   "execution_count": 44,
   "metadata": {
    "collapsed": false
   },
   "outputs": [
    {
     "data": {
      "text/plain": [
       "saturday\n",
       "0    0.642776\n",
       "1    0.534311\n",
       "Name: churned, dtype: float64"
      ]
     },
     "execution_count": 44,
     "metadata": {},
     "output_type": "execute_result"
    }
   ],
   "source": [
    "rover.groupby(['saturday']).churned.mean()"
   ]
  },
  {
   "cell_type": "code",
   "execution_count": 45,
   "metadata": {
    "collapsed": false
   },
   "outputs": [
    {
     "data": {
      "text/plain": [
       "sunday\n",
       "0    0.649370\n",
       "1    0.532589\n",
       "Name: churned, dtype: float64"
      ]
     },
     "execution_count": 45,
     "metadata": {},
     "output_type": "execute_result"
    }
   ],
   "source": [
    "rover.groupby(['sunday']).churned.mean()"
   ]
  },
  {
   "cell_type": "markdown",
   "metadata": {},
   "source": [
    "### Provider Detail"
   ]
  },
  {
   "cell_type": "code",
   "execution_count": 46,
   "metadata": {
    "collapsed": false
   },
   "outputs": [
    {
     "data": {
      "text/plain": [
       "has_dog\n",
       "0    0.588194\n",
       "1    0.506622\n",
       "Name: churned, dtype: float64"
      ]
     },
     "execution_count": 46,
     "metadata": {},
     "output_type": "execute_result"
    }
   ],
   "source": [
    "rover.groupby(['has_dog']).churned.mean()"
   ]
  },
  {
   "cell_type": "code",
   "execution_count": 47,
   "metadata": {
    "collapsed": false
   },
   "outputs": [
    {
     "data": {
      "text/plain": [
       "protection_package\n",
       "0    0.560136\n",
       "1    0.453652\n",
       "Name: churned, dtype: float64"
      ]
     },
     "execution_count": 47,
     "metadata": {},
     "output_type": "execute_result"
    }
   ],
   "source": [
    "rover.groupby(['protection_package']).churned.mean()"
   ]
  },
  {
   "cell_type": "code",
   "execution_count": 48,
   "metadata": {
    "collapsed": false
   },
   "outputs": [
    {
     "data": {
      "text/plain": [
       "years_of_experience\n",
       "0          0.511646\n",
       "1          0.624129\n",
       "2          0.592798\n",
       "3          0.572716\n",
       "4          0.571216\n",
       "5          0.572898\n",
       "6          0.558409\n",
       "7          0.534270\n",
       "8          0.540765\n",
       "9          0.530932\n",
       "10         0.542586\n",
       "11         0.534184\n",
       "12         0.515302\n",
       "13         0.550442\n",
       "14         0.523017\n",
       "15         0.526824\n",
       "16         0.500502\n",
       "17         0.501502\n",
       "18         0.576117\n",
       "19         0.577428\n",
       "20         0.508741\n",
       "21         0.533875\n",
       "22         0.543825\n",
       "23         0.536036\n",
       "24         0.525000\n",
       "25         0.469565\n",
       "26         0.501661\n",
       "27         0.522523\n",
       "28         0.476190\n",
       "29         0.429577\n",
       "             ...   \n",
       "50         0.422360\n",
       "51         0.714286\n",
       "52         0.400000\n",
       "53         0.166667\n",
       "54         0.166667\n",
       "55         0.447368\n",
       "56         0.571429\n",
       "57         0.500000\n",
       "58         0.500000\n",
       "59         0.500000\n",
       "60         0.428571\n",
       "61         0.500000\n",
       "62         0.333333\n",
       "63         1.000000\n",
       "65         0.111111\n",
       "66         1.000000\n",
       "67         0.500000\n",
       "69         0.000000\n",
       "70         0.500000\n",
       "75         0.000000\n",
       "77         0.000000\n",
       "100        0.500000\n",
       "108        1.000000\n",
       "126        0.000000\n",
       "200        0.500000\n",
       "227        0.000000\n",
       "1989       0.000000\n",
       "2010       1.000000\n",
       "2012       1.000000\n",
       "1000000    0.000000\n",
       "Name: churned, dtype: float64"
      ]
     },
     "execution_count": 48,
     "metadata": {},
     "output_type": "execute_result"
    }
   ],
   "source": [
    "rover.groupby(['years_of_experience']).churned.mean()"
   ]
  },
  {
   "cell_type": "code",
   "execution_count": 72,
   "metadata": {
    "collapsed": false
   },
   "outputs": [
    {
     "data": {
      "text/plain": [
       "<matplotlib.axes._subplots.AxesSubplot at 0x120080bd0>"
      ]
     },
     "execution_count": 72,
     "metadata": {},
     "output_type": "execute_result"
    },
    {
     "data": {
      "image/png": "[encoded data removed]",
      "text/plain": [
       "<matplotlib.figure.Figure at 0x120064510>"
      ]
     },
     "metadata": {},
     "output_type": "display_data"
    }
   ],
   "source": [
    "rover.boxplot(column='years_of_experience', by='churned')"
   ]
  },
  {
   "cell_type": "code",
   "execution_count": 50,
   "metadata": {
    "collapsed": false
   },
   "outputs": [
    {
     "data": {
      "text/plain": [
       "dogs_on_furniture\n",
       "0    0.501956\n",
       "1    0.479139\n",
       "2    0.610454\n",
       "Name: churned, dtype: float64"
      ]
     },
     "execution_count": 50,
     "metadata": {},
     "output_type": "execute_result"
    }
   ],
   "source": [
    "rover.groupby(['dogs_on_furniture']).churned.mean()"
   ]
  },
  {
   "cell_type": "code",
   "execution_count": 51,
   "metadata": {
    "collapsed": false
   },
   "outputs": [
    {
     "data": {
      "text/plain": [
       "children_in_home\n",
       "0    0.545644\n",
       "1    0.472366\n",
       "Name: churned, dtype: float64"
      ]
     },
     "execution_count": 51,
     "metadata": {},
     "output_type": "execute_result"
    }
   ],
   "source": [
    "rover.groupby(['children_in_home']).churned.mean()"
   ]
  },
  {
   "cell_type": "code",
   "execution_count": 52,
   "metadata": {
    "collapsed": false
   },
   "outputs": [
    {
     "data": {
      "text/plain": [
       "testimonial_requests\n",
       "0     0.289780\n",
       "1     0.627928\n",
       "2     0.570305\n",
       "3     0.538681\n",
       "4     0.504058\n",
       "5     0.485354\n",
       "6     0.469839\n",
       "7     0.441301\n",
       "8     0.453461\n",
       "9     0.427984\n",
       "10    0.432558\n",
       "11    0.450000\n",
       "12    0.322581\n",
       "13    0.424242\n",
       "14    0.411765\n",
       "15    0.371429\n",
       "16    0.588235\n",
       "17    0.400000\n",
       "18    0.363636\n",
       "19    0.125000\n",
       "20    0.142857\n",
       "21    0.500000\n",
       "22    0.000000\n",
       "23    1.000000\n",
       "24    1.000000\n",
       "26    0.000000\n",
       "27    1.000000\n",
       "28    0.000000\n",
       "29    0.500000\n",
       "30    0.500000\n",
       "31    1.000000\n",
       "32    0.500000\n",
       "34    0.000000\n",
       "36    1.000000\n",
       "39    1.000000\n",
       "53    0.000000\n",
       "99    0.000000\n",
       "Name: churned, dtype: float64"
      ]
     },
     "execution_count": 52,
     "metadata": {},
     "output_type": "execute_result"
    }
   ],
   "source": [
    "rover.groupby(['testimonial_requests']).churned.mean()"
   ]
  },
  {
   "cell_type": "code",
   "execution_count": 53,
   "metadata": {
    "collapsed": false
   },
   "outputs": [
    {
     "data": {
      "text/plain": [
       "<matplotlib.axes._subplots.AxesSubplot at 0x112a26350>"
      ]
     },
     "execution_count": 53,
     "metadata": {},
     "output_type": "execute_result"
    },
    {
     "data": {
      "image/png": "[encoded data removed]",
      "text/plain": [
       "<matplotlib.figure.Figure at 0x111fa7950>"
      ]
     },
     "metadata": {},
     "output_type": "display_data"
    }
   ],
   "source": [
    "rover.boxplot(column='testimonial_requests', by='churned')\n",
    "#rover[rover['testimonial_requests']<30.plot(kind='hist',y='testimonial_requests')"
   ]
  },
  {
   "cell_type": "markdown",
   "metadata": {},
   "source": [
    "### Home Type"
   ]
  },
  {
   "cell_type": "code",
   "execution_count": 54,
   "metadata": {
    "collapsed": false
   },
   "outputs": [
    {
     "data": {
      "text/plain": [
       "building_home\n",
       "0    0.588213\n",
       "1    0.462381\n",
       "Name: churned, dtype: float64"
      ]
     },
     "execution_count": 54,
     "metadata": {},
     "output_type": "execute_result"
    }
   ],
   "source": [
    "rover.groupby(['building_home']).churned.mean()"
   ]
  },
  {
   "cell_type": "code",
   "execution_count": 55,
   "metadata": {
    "collapsed": false
   },
   "outputs": [
    {
     "data": {
      "text/plain": [
       "building_apartment\n",
       "0    0.544731\n",
       "1    0.519201\n",
       "Name: churned, dtype: float64"
      ]
     },
     "execution_count": 55,
     "metadata": {},
     "output_type": "execute_result"
    }
   ],
   "source": [
    "rover.groupby(['building_apartment']).churned.mean()"
   ]
  },
  {
   "cell_type": "code",
   "execution_count": 56,
   "metadata": {
    "collapsed": false
   },
   "outputs": [
    {
     "data": {
      "text/plain": [
       "building_farm\n",
       "0    0.538619\n",
       "1    0.491329\n",
       "Name: churned, dtype: float64"
      ]
     },
     "execution_count": 56,
     "metadata": {},
     "output_type": "execute_result"
    }
   ],
   "source": [
    "rover.groupby(['building_farm']).churned.mean()"
   ]
  },
  {
   "cell_type": "code",
   "execution_count": 57,
   "metadata": {
    "collapsed": false
   },
   "outputs": [
    {
     "data": {
      "text/plain": [
       "building_unknown\n",
       "0    0.484228\n",
       "1    0.642087\n",
       "Name: churned, dtype: float64"
      ]
     },
     "execution_count": 57,
     "metadata": {},
     "output_type": "execute_result"
    }
   ],
   "source": [
    "rover.groupby(['building_unknown']).churned.mean()"
   ]
  },
  {
   "cell_type": "markdown",
   "metadata": {},
   "source": [
    "### Logistic Regression Model"
   ]
  },
  {
   "cell_type": "code",
   "execution_count": 87,
   "metadata": {
    "collapsed": false
   },
   "outputs": [
    {
     "name": "stdout",
     "output_type": "stream",
     "text": [
      "0.612599866844\n"
     ]
    }
   ],
   "source": [
    "feature_cols = ['month_signed_up', 'listed_boarding', 'listed_traveling', 'listed_walking', 'listed_daycare', 'listed_dropin', 'protection_package', 'building_home', 'children_in_home', 'has_dog', 'dogs_on_furniture', 'building_home', 'building_apartment', 'building_farm', 'building_unknown', 'saturday', 'sunday', 'photos']\n",
    "X = rover[feature_cols]\n",
    "y = rover.churned\n",
    "\n",
    "# train/test split\n",
    "from sklearn.cross_validation import train_test_split\n",
    "X_train, X_test, y_train, y_test = train_test_split(X, y, random_state=126)\n",
    "\n",
    "# train a logistic regression model\n",
    "from sklearn.linear_model import LogisticRegression\n",
    "logreg = LogisticRegression(C=1e9)\n",
    "logreg.fit(X_train, y_train)\n",
    "\n",
    "# make predictions for testing set\n",
    "y_pred_class = logreg.predict(X_test)\n",
    "\n",
    "# calculate testing accuracy\n",
    "from sklearn import metrics\n",
    "print metrics.accuracy_score(y_test, y_pred_class)"
   ]
  },
  {
   "cell_type": "code",
   "execution_count": 88,
   "metadata": {
    "collapsed": false
   },
   "outputs": [
    {
     "data": {
      "text/plain": [
       "1    0.537866\n",
       "Name: churned, dtype: float64"
      ]
     },
     "execution_count": 88,
     "metadata": {},
     "output_type": "execute_result"
    }
   ],
   "source": [
    "y_test.value_counts()\n",
    "y_test.value_counts().head(1) / len(y_test)"
   ]
  },
  {
   "cell_type": "markdown",
   "metadata": {
    "collapsed": false
   },
   "source": [
    "### Correlation"
   ]
  },
  {
   "cell_type": "code",
   "execution_count": 89,
   "metadata": {
    "collapsed": false
   },
   "outputs": [
    {
     "data": {
      "text/plain": [
       "<matplotlib.axes._subplots.AxesSubplot at 0x11f8c1510>"
      ]
     },
     "execution_count": 89,
     "metadata": {},
     "output_type": "execute_result"
    },
    {
     "data": {
      "image/png": "[encoded data removed]",
      "text/plain": [
       "<matplotlib.figure.Figure at 0x11fa95bd0>"
      ]
     },
     "metadata": {},
     "output_type": "display_data"
    }
   ],
   "source": [
    "import seaborn as sns\n",
    "sns.heatmap(rover.corr())"
   ]
  },
  {
   "cell_type": "code",
   "execution_count": 61,
   "metadata": {
    "collapsed": false
   },
   "outputs": [
    {
     "data": {
      "text/html": [
       "<div>\n",
       "<table border=\"1\" class=\"dataframe\">\n",
       "  <thead>\n",
       "    <tr style=\"text-align: right;\">\n",
       "      <th></th>\n",
       "      <th>month_signed_up</th>\n",
       "      <th>photos</th>\n",
       "      <th>cbsa_code</th>\n",
       "      <th>listed_boarding</th>\n",
       "      <th>listed_traveling</th>\n",
       "      <th>listed_walking</th>\n",
       "      <th>listed_dropin</th>\n",
       "      <th>listed_daycare</th>\n",
       "      <th>month_signed_up</th>\n",
       "      <th>monday</th>\n",
       "      <th>...</th>\n",
       "      <th>years_of_experience</th>\n",
       "      <th>dogs_on_furniture</th>\n",
       "      <th>children_in_home</th>\n",
       "      <th>building_home</th>\n",
       "      <th>building_apartment</th>\n",
       "      <th>building_farm</th>\n",
       "      <th>building_unknown</th>\n",
       "      <th>testimonial_requests</th>\n",
       "      <th>photos</th>\n",
       "      <th>churned</th>\n",
       "    </tr>\n",
       "  </thead>\n",
       "  <tbody>\n",
       "    <tr>\n",
       "      <th>month_signed_up</th>\n",
       "      <td>1.000000</td>\n",
       "      <td>0.001940</td>\n",
       "      <td>0.005186</td>\n",
       "      <td>0.023414</td>\n",
       "      <td>0.015286</td>\n",
       "      <td>-0.000253</td>\n",
       "      <td>0.021674</td>\n",
       "      <td>0.026101</td>\n",
       "      <td>1.000000</td>\n",
       "      <td>0.004513</td>\n",
       "      <td>...</td>\n",
       "      <td>-0.001373</td>\n",
       "      <td>-0.030586</td>\n",
       "      <td>0.018718</td>\n",
       "      <td>0.015456</td>\n",
       "      <td>0.010865</td>\n",
       "      <td>0.004694</td>\n",
       "      <td>-0.026632</td>\n",
       "      <td>0.023973</td>\n",
       "      <td>0.001940</td>\n",
       "      <td>0.012009</td>\n",
       "    </tr>\n",
       "    <tr>\n",
       "      <th>photos</th>\n",
       "      <td>0.001940</td>\n",
       "      <td>1.000000</td>\n",
       "      <td>0.009315</td>\n",
       "      <td>0.115870</td>\n",
       "      <td>-0.039052</td>\n",
       "      <td>-0.007685</td>\n",
       "      <td>-0.032136</td>\n",
       "      <td>0.092219</td>\n",
       "      <td>0.001940</td>\n",
       "      <td>0.017798</td>\n",
       "      <td>...</td>\n",
       "      <td>0.000755</td>\n",
       "      <td>-0.083589</td>\n",
       "      <td>0.035076</td>\n",
       "      <td>0.107743</td>\n",
       "      <td>0.000038</td>\n",
       "      <td>0.019808</td>\n",
       "      <td>-0.114694</td>\n",
       "      <td>0.077009</td>\n",
       "      <td>1.000000</td>\n",
       "      <td>-0.089507</td>\n",
       "    </tr>\n",
       "    <tr>\n",
       "      <th>cbsa_code</th>\n",
       "      <td>0.005186</td>\n",
       "      <td>0.009315</td>\n",
       "      <td>1.000000</td>\n",
       "      <td>-0.003683</td>\n",
       "      <td>-0.005395</td>\n",
       "      <td>-0.011224</td>\n",
       "      <td>-0.017011</td>\n",
       "      <td>0.004059</td>\n",
       "      <td>0.005186</td>\n",
       "      <td>-0.017614</td>\n",
       "      <td>...</td>\n",
       "      <td>0.003298</td>\n",
       "      <td>0.004277</td>\n",
       "      <td>-0.002427</td>\n",
       "      <td>-0.001767</td>\n",
       "      <td>-0.000675</td>\n",
       "      <td>0.002607</td>\n",
       "      <td>0.002364</td>\n",
       "      <td>-0.002520</td>\n",
       "      <td>0.009315</td>\n",
       "      <td>-0.010273</td>\n",
       "    </tr>\n",
       "    <tr>\n",
       "      <th>listed_boarding</th>\n",
       "      <td>0.023414</td>\n",
       "      <td>0.115870</td>\n",
       "      <td>-0.003683</td>\n",
       "      <td>1.000000</td>\n",
       "      <td>-0.397844</td>\n",
       "      <td>-0.152840</td>\n",
       "      <td>-0.356592</td>\n",
       "      <td>0.343996</td>\n",
       "      <td>0.023414</td>\n",
       "      <td>0.020748</td>\n",
       "      <td>...</td>\n",
       "      <td>0.002589</td>\n",
       "      <td>-0.704282</td>\n",
       "      <td>0.231962</td>\n",
       "      <td>0.560893</td>\n",
       "      <td>0.393804</td>\n",
       "      <td>0.061117</td>\n",
       "      <td>-0.947866</td>\n",
       "      <td>0.001590</td>\n",
       "      <td>0.115870</td>\n",
       "      <td>-0.155425</td>\n",
       "    </tr>\n",
       "    <tr>\n",
       "      <th>listed_traveling</th>\n",
       "      <td>0.015286</td>\n",
       "      <td>-0.039052</td>\n",
       "      <td>-0.005395</td>\n",
       "      <td>-0.397844</td>\n",
       "      <td>1.000000</td>\n",
       "      <td>0.277540</td>\n",
       "      <td>0.486125</td>\n",
       "      <td>-0.019340</td>\n",
       "      <td>0.015286</td>\n",
       "      <td>0.096738</td>\n",
       "      <td>...</td>\n",
       "      <td>-0.004485</td>\n",
       "      <td>0.262744</td>\n",
       "      <td>-0.160282</td>\n",
       "      <td>-0.277952</td>\n",
       "      <td>-0.117793</td>\n",
       "      <td>-0.027013</td>\n",
       "      <td>0.398025</td>\n",
       "      <td>0.061107</td>\n",
       "      <td>-0.039052</td>\n",
       "      <td>0.018708</td>\n",
       "    </tr>\n",
       "    <tr>\n",
       "      <th>listed_walking</th>\n",
       "      <td>-0.000253</td>\n",
       "      <td>-0.007685</td>\n",
       "      <td>-0.011224</td>\n",
       "      <td>-0.152840</td>\n",
       "      <td>0.277540</td>\n",
       "      <td>1.000000</td>\n",
       "      <td>0.660691</td>\n",
       "      <td>0.336365</td>\n",
       "      <td>-0.000253</td>\n",
       "      <td>0.084537</td>\n",
       "      <td>...</td>\n",
       "      <td>-0.002611</td>\n",
       "      <td>0.003662</td>\n",
       "      <td>-0.032744</td>\n",
       "      <td>-0.104272</td>\n",
       "      <td>-0.017943</td>\n",
       "      <td>-0.017127</td>\n",
       "      <td>0.126435</td>\n",
       "      <td>0.068603</td>\n",
       "      <td>-0.007685</td>\n",
       "      <td>-0.028235</td>\n",
       "    </tr>\n",
       "    <tr>\n",
       "      <th>listed_dropin</th>\n",
       "      <td>0.021674</td>\n",
       "      <td>-0.032136</td>\n",
       "      <td>-0.017011</td>\n",
       "      <td>-0.356592</td>\n",
       "      <td>0.486125</td>\n",
       "      <td>0.660691</td>\n",
       "      <td>1.000000</td>\n",
       "      <td>0.223489</td>\n",
       "      <td>0.021674</td>\n",
       "      <td>0.087888</td>\n",
       "      <td>...</td>\n",
       "      <td>-0.003635</td>\n",
       "      <td>0.160891</td>\n",
       "      <td>-0.079635</td>\n",
       "      <td>-0.221532</td>\n",
       "      <td>-0.116748</td>\n",
       "      <td>-0.028408</td>\n",
       "      <td>0.339310</td>\n",
       "      <td>0.085165</td>\n",
       "      <td>-0.032136</td>\n",
       "      <td>-0.023974</td>\n",
       "    </tr>\n",
       "    <tr>\n",
       "      <th>listed_daycare</th>\n",
       "      <td>0.026101</td>\n",
       "      <td>0.092219</td>\n",
       "      <td>0.004059</td>\n",
       "      <td>0.343996</td>\n",
       "      <td>-0.019340</td>\n",
       "      <td>0.336365</td>\n",
       "      <td>0.223489</td>\n",
       "      <td>1.000000</td>\n",
       "      <td>0.026101</td>\n",
       "      <td>0.072133</td>\n",
       "      <td>...</td>\n",
       "      <td>-0.001367</td>\n",
       "      <td>-0.416189</td>\n",
       "      <td>0.166028</td>\n",
       "      <td>0.268764</td>\n",
       "      <td>0.132388</td>\n",
       "      <td>0.036262</td>\n",
       "      <td>-0.403960</td>\n",
       "      <td>0.064665</td>\n",
       "      <td>0.092219</td>\n",
       "      <td>-0.141000</td>\n",
       "    </tr>\n",
       "    <tr>\n",
       "      <th>month_signed_up</th>\n",
       "      <td>1.000000</td>\n",
       "      <td>0.001940</td>\n",
       "      <td>0.005186</td>\n",
       "      <td>0.023414</td>\n",
       "      <td>0.015286</td>\n",
       "      <td>-0.000253</td>\n",
       "      <td>0.021674</td>\n",
       "      <td>0.026101</td>\n",
       "      <td>1.000000</td>\n",
       "      <td>0.004513</td>\n",
       "      <td>...</td>\n",
       "      <td>-0.001373</td>\n",
       "      <td>-0.030586</td>\n",
       "      <td>0.018718</td>\n",
       "      <td>0.015456</td>\n",
       "      <td>0.010865</td>\n",
       "      <td>0.004694</td>\n",
       "      <td>-0.026632</td>\n",
       "      <td>0.023973</td>\n",
       "      <td>0.001940</td>\n",
       "      <td>0.012009</td>\n",
       "    </tr>\n",
       "    <tr>\n",
       "      <th>monday</th>\n",
       "      <td>0.004513</td>\n",
       "      <td>0.017798</td>\n",
       "      <td>-0.017614</td>\n",
       "      <td>0.020748</td>\n",
       "      <td>0.096738</td>\n",
       "      <td>0.084537</td>\n",
       "      <td>0.087888</td>\n",
       "      <td>0.072133</td>\n",
       "      <td>0.004513</td>\n",
       "      <td>1.000000</td>\n",
       "      <td>...</td>\n",
       "      <td>-0.011969</td>\n",
       "      <td>-0.023302</td>\n",
       "      <td>0.037284</td>\n",
       "      <td>0.044003</td>\n",
       "      <td>-0.029156</td>\n",
       "      <td>0.011861</td>\n",
       "      <td>-0.020801</td>\n",
       "      <td>0.020947</td>\n",
       "      <td>0.017798</td>\n",
       "      <td>-0.018035</td>\n",
       "    </tr>\n",
       "    <tr>\n",
       "      <th>tuesday</th>\n",
       "      <td>0.002366</td>\n",
       "      <td>0.017699</td>\n",
       "      <td>-0.016461</td>\n",
       "      <td>0.020079</td>\n",
       "      <td>0.095713</td>\n",
       "      <td>0.087419</td>\n",
       "      <td>0.089002</td>\n",
       "      <td>0.074755</td>\n",
       "      <td>0.002366</td>\n",
       "      <td>0.810236</td>\n",
       "      <td>...</td>\n",
       "      <td>-0.011666</td>\n",
       "      <td>-0.023957</td>\n",
       "      <td>0.038138</td>\n",
       "      <td>0.043831</td>\n",
       "      <td>-0.029217</td>\n",
       "      <td>0.013168</td>\n",
       "      <td>-0.020823</td>\n",
       "      <td>0.015891</td>\n",
       "      <td>0.017699</td>\n",
       "      <td>-0.014250</td>\n",
       "    </tr>\n",
       "    <tr>\n",
       "      <th>wednesday</th>\n",
       "      <td>0.001256</td>\n",
       "      <td>0.016534</td>\n",
       "      <td>-0.019430</td>\n",
       "      <td>0.013348</td>\n",
       "      <td>0.101822</td>\n",
       "      <td>0.089648</td>\n",
       "      <td>0.093682</td>\n",
       "      <td>0.071542</td>\n",
       "      <td>0.001256</td>\n",
       "      <td>0.823956</td>\n",
       "      <td>...</td>\n",
       "      <td>-0.011785</td>\n",
       "      <td>-0.018198</td>\n",
       "      <td>0.035828</td>\n",
       "      <td>0.039225</td>\n",
       "      <td>-0.032070</td>\n",
       "      <td>0.012790</td>\n",
       "      <td>-0.013383</td>\n",
       "      <td>0.019128</td>\n",
       "      <td>0.016534</td>\n",
       "      <td>-0.010802</td>\n",
       "    </tr>\n",
       "    <tr>\n",
       "      <th>thursday</th>\n",
       "      <td>0.003846</td>\n",
       "      <td>0.015579</td>\n",
       "      <td>-0.018109</td>\n",
       "      <td>0.021122</td>\n",
       "      <td>0.091786</td>\n",
       "      <td>0.085890</td>\n",
       "      <td>0.085094</td>\n",
       "      <td>0.071966</td>\n",
       "      <td>0.003846</td>\n",
       "      <td>0.732631</td>\n",
       "      <td>...</td>\n",
       "      <td>-0.012309</td>\n",
       "      <td>-0.026425</td>\n",
       "      <td>0.035394</td>\n",
       "      <td>0.040479</td>\n",
       "      <td>-0.024821</td>\n",
       "      <td>0.012452</td>\n",
       "      <td>-0.021219</td>\n",
       "      <td>0.018421</td>\n",
       "      <td>0.015579</td>\n",
       "      <td>-0.011447</td>\n",
       "    </tr>\n",
       "    <tr>\n",
       "      <th>friday</th>\n",
       "      <td>0.005952</td>\n",
       "      <td>0.012604</td>\n",
       "      <td>-0.013790</td>\n",
       "      <td>0.039291</td>\n",
       "      <td>0.072738</td>\n",
       "      <td>0.080680</td>\n",
       "      <td>0.072592</td>\n",
       "      <td>0.070887</td>\n",
       "      <td>0.005952</td>\n",
       "      <td>0.459232</td>\n",
       "      <td>...</td>\n",
       "      <td>-0.016174</td>\n",
       "      <td>-0.050012</td>\n",
       "      <td>0.025043</td>\n",
       "      <td>0.028016</td>\n",
       "      <td>0.009277</td>\n",
       "      <td>0.005806</td>\n",
       "      <td>-0.038528</td>\n",
       "      <td>0.027081</td>\n",
       "      <td>0.012604</td>\n",
       "      <td>-0.020910</td>\n",
       "    </tr>\n",
       "    <tr>\n",
       "      <th>saturday</th>\n",
       "      <td>0.010321</td>\n",
       "      <td>0.009617</td>\n",
       "      <td>-0.007839</td>\n",
       "      <td>0.022056</td>\n",
       "      <td>0.110914</td>\n",
       "      <td>0.040500</td>\n",
       "      <td>0.099443</td>\n",
       "      <td>0.059522</td>\n",
       "      <td>0.010321</td>\n",
       "      <td>0.296097</td>\n",
       "      <td>...</td>\n",
       "      <td>-0.016428</td>\n",
       "      <td>-0.024511</td>\n",
       "      <td>0.010581</td>\n",
       "      <td>0.012039</td>\n",
       "      <td>-0.001320</td>\n",
       "      <td>0.003482</td>\n",
       "      <td>-0.012044</td>\n",
       "      <td>0.024269</td>\n",
       "      <td>0.009617</td>\n",
       "      <td>-0.040842</td>\n",
       "    </tr>\n",
       "    <tr>\n",
       "      <th>sunday</th>\n",
       "      <td>0.008702</td>\n",
       "      <td>0.017217</td>\n",
       "      <td>-0.008532</td>\n",
       "      <td>0.064314</td>\n",
       "      <td>0.085063</td>\n",
       "      <td>0.075545</td>\n",
       "      <td>0.065394</td>\n",
       "      <td>0.079812</td>\n",
       "      <td>0.008702</td>\n",
       "      <td>0.350209</td>\n",
       "      <td>...</td>\n",
       "      <td>-0.014094</td>\n",
       "      <td>-0.054565</td>\n",
       "      <td>0.014900</td>\n",
       "      <td>0.037276</td>\n",
       "      <td>0.018636</td>\n",
       "      <td>0.007838</td>\n",
       "      <td>-0.056985</td>\n",
       "      <td>0.022244</td>\n",
       "      <td>0.017217</td>\n",
       "      <td>-0.050429</td>\n",
       "    </tr>\n",
       "    <tr>\n",
       "      <th>has_dog</th>\n",
       "      <td>0.012365</td>\n",
       "      <td>0.112520</td>\n",
       "      <td>-0.021935</td>\n",
       "      <td>0.163615</td>\n",
       "      <td>-0.091326</td>\n",
       "      <td>0.083506</td>\n",
       "      <td>0.006628</td>\n",
       "      <td>0.134535</td>\n",
       "      <td>0.012365</td>\n",
       "      <td>0.033623</td>\n",
       "      <td>...</td>\n",
       "      <td>0.002920</td>\n",
       "      <td>-0.162251</td>\n",
       "      <td>0.084175</td>\n",
       "      <td>0.222128</td>\n",
       "      <td>-0.075877</td>\n",
       "      <td>0.047865</td>\n",
       "      <td>-0.169303</td>\n",
       "      <td>0.041999</td>\n",
       "      <td>0.112520</td>\n",
       "      <td>-0.079737</td>\n",
       "    </tr>\n",
       "    <tr>\n",
       "      <th>protection_package</th>\n",
       "      <td>0.001572</td>\n",
       "      <td>0.066085</td>\n",
       "      <td>0.023297</td>\n",
       "      <td>0.041088</td>\n",
       "      <td>0.005819</td>\n",
       "      <td>-0.003247</td>\n",
       "      <td>-0.017203</td>\n",
       "      <td>0.062542</td>\n",
       "      <td>0.001572</td>\n",
       "      <td>0.018820</td>\n",
       "      <td>...</td>\n",
       "      <td>-0.001464</td>\n",
       "      <td>-0.001512</td>\n",
       "      <td>0.030302</td>\n",
       "      <td>0.059280</td>\n",
       "      <td>-0.022634</td>\n",
       "      <td>0.007299</td>\n",
       "      <td>-0.042168</td>\n",
       "      <td>-0.000560</td>\n",
       "      <td>0.066085</td>\n",
       "      <td>-0.086270</td>\n",
       "    </tr>\n",
       "    <tr>\n",
       "      <th>month_signed_up</th>\n",
       "      <td>1.000000</td>\n",
       "      <td>0.001940</td>\n",
       "      <td>0.005186</td>\n",
       "      <td>0.023414</td>\n",
       "      <td>0.015286</td>\n",
       "      <td>-0.000253</td>\n",
       "      <td>0.021674</td>\n",
       "      <td>0.026101</td>\n",
       "      <td>1.000000</td>\n",
       "      <td>0.004513</td>\n",
       "      <td>...</td>\n",
       "      <td>-0.001373</td>\n",
       "      <td>-0.030586</td>\n",
       "      <td>0.018718</td>\n",
       "      <td>0.015456</td>\n",
       "      <td>0.010865</td>\n",
       "      <td>0.004694</td>\n",
       "      <td>-0.026632</td>\n",
       "      <td>0.023973</td>\n",
       "      <td>0.001940</td>\n",
       "      <td>0.012009</td>\n",
       "    </tr>\n",
       "    <tr>\n",
       "      <th>years_of_experience</th>\n",
       "      <td>-0.001373</td>\n",
       "      <td>0.000755</td>\n",
       "      <td>0.003298</td>\n",
       "      <td>0.002589</td>\n",
       "      <td>-0.004485</td>\n",
       "      <td>-0.002611</td>\n",
       "      <td>-0.003635</td>\n",
       "      <td>-0.001367</td>\n",
       "      <td>-0.001373</td>\n",
       "      <td>-0.011969</td>\n",
       "      <td>...</td>\n",
       "      <td>1.000000</td>\n",
       "      <td>-0.005952</td>\n",
       "      <td>-0.000844</td>\n",
       "      <td>-0.002331</td>\n",
       "      <td>0.005397</td>\n",
       "      <td>-0.000113</td>\n",
       "      <td>-0.002515</td>\n",
       "      <td>0.002268</td>\n",
       "      <td>0.000755</td>\n",
       "      <td>-0.003629</td>\n",
       "    </tr>\n",
       "    <tr>\n",
       "      <th>dogs_on_furniture</th>\n",
       "      <td>-0.030586</td>\n",
       "      <td>-0.083589</td>\n",
       "      <td>0.004277</td>\n",
       "      <td>-0.704282</td>\n",
       "      <td>0.262744</td>\n",
       "      <td>0.003662</td>\n",
       "      <td>0.160891</td>\n",
       "      <td>-0.416189</td>\n",
       "      <td>-0.030586</td>\n",
       "      <td>-0.023302</td>\n",
       "      <td>...</td>\n",
       "      <td>-0.005952</td>\n",
       "      <td>1.000000</td>\n",
       "      <td>-0.289620</td>\n",
       "      <td>-0.450977</td>\n",
       "      <td>-0.294991</td>\n",
       "      <td>-0.069418</td>\n",
       "      <td>0.745723</td>\n",
       "      <td>-0.081213</td>\n",
       "      <td>-0.083589</td>\n",
       "      <td>0.100180</td>\n",
       "    </tr>\n",
       "    <tr>\n",
       "      <th>children_in_home</th>\n",
       "      <td>0.018718</td>\n",
       "      <td>0.035076</td>\n",
       "      <td>-0.002427</td>\n",
       "      <td>0.231962</td>\n",
       "      <td>-0.160282</td>\n",
       "      <td>-0.032744</td>\n",
       "      <td>-0.079635</td>\n",
       "      <td>0.166028</td>\n",
       "      <td>0.018718</td>\n",
       "      <td>0.037284</td>\n",
       "      <td>...</td>\n",
       "      <td>-0.000844</td>\n",
       "      <td>-0.289620</td>\n",
       "      <td>1.000000</td>\n",
       "      <td>0.278186</td>\n",
       "      <td>-0.056844</td>\n",
       "      <td>0.039469</td>\n",
       "      <td>-0.241214</td>\n",
       "      <td>0.009828</td>\n",
       "      <td>0.035076</td>\n",
       "      <td>-0.044197</td>\n",
       "    </tr>\n",
       "    <tr>\n",
       "      <th>building_home</th>\n",
       "      <td>0.015456</td>\n",
       "      <td>0.107743</td>\n",
       "      <td>-0.001767</td>\n",
       "      <td>0.560893</td>\n",
       "      <td>-0.277952</td>\n",
       "      <td>-0.104272</td>\n",
       "      <td>-0.221532</td>\n",
       "      <td>0.268764</td>\n",
       "      <td>0.015456</td>\n",
       "      <td>0.044003</td>\n",
       "      <td>...</td>\n",
       "      <td>-0.002331</td>\n",
       "      <td>-0.450977</td>\n",
       "      <td>0.278186</td>\n",
       "      <td>1.000000</td>\n",
       "      <td>-0.471731</td>\n",
       "      <td>-0.069071</td>\n",
       "      <td>-0.585293</td>\n",
       "      <td>0.000012</td>\n",
       "      <td>0.107743</td>\n",
       "      <td>-0.123487</td>\n",
       "    </tr>\n",
       "    <tr>\n",
       "      <th>building_apartment</th>\n",
       "      <td>0.010865</td>\n",
       "      <td>0.000038</td>\n",
       "      <td>-0.000675</td>\n",
       "      <td>0.393804</td>\n",
       "      <td>-0.117793</td>\n",
       "      <td>-0.017943</td>\n",
       "      <td>-0.116748</td>\n",
       "      <td>0.132388</td>\n",
       "      <td>0.010865</td>\n",
       "      <td>-0.029156</td>\n",
       "      <td>...</td>\n",
       "      <td>0.005397</td>\n",
       "      <td>-0.294991</td>\n",
       "      <td>-0.056844</td>\n",
       "      <td>-0.471731</td>\n",
       "      <td>1.000000</td>\n",
       "      <td>-0.049523</td>\n",
       "      <td>-0.419652</td>\n",
       "      <td>-0.001123</td>\n",
       "      <td>0.000038</td>\n",
       "      <td>-0.022254</td>\n",
       "    </tr>\n",
       "    <tr>\n",
       "      <th>building_farm</th>\n",
       "      <td>0.004694</td>\n",
       "      <td>0.019808</td>\n",
       "      <td>0.002607</td>\n",
       "      <td>0.061117</td>\n",
       "      <td>-0.027013</td>\n",
       "      <td>-0.017127</td>\n",
       "      <td>-0.028408</td>\n",
       "      <td>0.036262</td>\n",
       "      <td>0.004694</td>\n",
       "      <td>0.011861</td>\n",
       "      <td>...</td>\n",
       "      <td>-0.000113</td>\n",
       "      <td>-0.069418</td>\n",
       "      <td>0.039469</td>\n",
       "      <td>-0.069071</td>\n",
       "      <td>-0.049523</td>\n",
       "      <td>1.000000</td>\n",
       "      <td>-0.061445</td>\n",
       "      <td>0.022484</td>\n",
       "      <td>0.019808</td>\n",
       "      <td>-0.008019</td>\n",
       "    </tr>\n",
       "    <tr>\n",
       "      <th>building_unknown</th>\n",
       "      <td>-0.026632</td>\n",
       "      <td>-0.114694</td>\n",
       "      <td>0.002364</td>\n",
       "      <td>-0.947866</td>\n",
       "      <td>0.398025</td>\n",
       "      <td>0.126435</td>\n",
       "      <td>0.339310</td>\n",
       "      <td>-0.403960</td>\n",
       "      <td>-0.026632</td>\n",
       "      <td>-0.020801</td>\n",
       "      <td>...</td>\n",
       "      <td>-0.002515</td>\n",
       "      <td>0.745723</td>\n",
       "      <td>-0.241214</td>\n",
       "      <td>-0.585293</td>\n",
       "      <td>-0.419652</td>\n",
       "      <td>-0.061445</td>\n",
       "      <td>1.000000</td>\n",
       "      <td>-0.003128</td>\n",
       "      <td>-0.114694</td>\n",
       "      <td>0.150253</td>\n",
       "    </tr>\n",
       "    <tr>\n",
       "      <th>testimonial_requests</th>\n",
       "      <td>0.023973</td>\n",
       "      <td>0.077009</td>\n",
       "      <td>-0.002520</td>\n",
       "      <td>0.001590</td>\n",
       "      <td>0.061107</td>\n",
       "      <td>0.068603</td>\n",
       "      <td>0.085165</td>\n",
       "      <td>0.064665</td>\n",
       "      <td>0.023973</td>\n",
       "      <td>0.020947</td>\n",
       "      <td>...</td>\n",
       "      <td>0.002268</td>\n",
       "      <td>-0.081213</td>\n",
       "      <td>0.009828</td>\n",
       "      <td>0.000012</td>\n",
       "      <td>-0.001123</td>\n",
       "      <td>0.022484</td>\n",
       "      <td>-0.003128</td>\n",
       "      <td>1.000000</td>\n",
       "      <td>0.077009</td>\n",
       "      <td>-0.001381</td>\n",
       "    </tr>\n",
       "    <tr>\n",
       "      <th>photos</th>\n",
       "      <td>0.001940</td>\n",
       "      <td>1.000000</td>\n",
       "      <td>0.009315</td>\n",
       "      <td>0.115870</td>\n",
       "      <td>-0.039052</td>\n",
       "      <td>-0.007685</td>\n",
       "      <td>-0.032136</td>\n",
       "      <td>0.092219</td>\n",
       "      <td>0.001940</td>\n",
       "      <td>0.017798</td>\n",
       "      <td>...</td>\n",
       "      <td>0.000755</td>\n",
       "      <td>-0.083589</td>\n",
       "      <td>0.035076</td>\n",
       "      <td>0.107743</td>\n",
       "      <td>0.000038</td>\n",
       "      <td>0.019808</td>\n",
       "      <td>-0.114694</td>\n",
       "      <td>0.077009</td>\n",
       "      <td>1.000000</td>\n",
       "      <td>-0.089507</td>\n",
       "    </tr>\n",
       "    <tr>\n",
       "      <th>churned</th>\n",
       "      <td>0.012009</td>\n",
       "      <td>-0.089507</td>\n",
       "      <td>-0.010273</td>\n",
       "      <td>-0.155425</td>\n",
       "      <td>0.018708</td>\n",
       "      <td>-0.028235</td>\n",
       "      <td>-0.023974</td>\n",
       "      <td>-0.141000</td>\n",
       "      <td>0.012009</td>\n",
       "      <td>-0.018035</td>\n",
       "      <td>...</td>\n",
       "      <td>-0.003629</td>\n",
       "      <td>0.100180</td>\n",
       "      <td>-0.044197</td>\n",
       "      <td>-0.123487</td>\n",
       "      <td>-0.022254</td>\n",
       "      <td>-0.008019</td>\n",
       "      <td>0.150253</td>\n",
       "      <td>-0.001381</td>\n",
       "      <td>-0.089507</td>\n",
       "      <td>1.000000</td>\n",
       "    </tr>\n",
       "  </tbody>\n",
       "</table>\n",
       "<p>29 rows × 29 columns</p>\n",
       "</div>"
      ],
      "text/plain": [
       "                      month_signed_up    photos  cbsa_code  listed_boarding  \\\n",
       "month_signed_up              1.000000  0.001940   0.005186         0.023414   \n",
       "photos                       0.001940  1.000000   0.009315         0.115870   \n",
       "cbsa_code                    0.005186  0.009315   1.000000        -0.003683   \n",
       "listed_boarding              0.023414  0.115870  -0.003683         1.000000   \n",
       "listed_traveling             0.015286 -0.039052  -0.005395        -0.397844   \n",
       "listed_walking              -0.000253 -0.007685  -0.011224        -0.152840   \n",
       "listed_dropin                0.021674 -0.032136  -0.017011        -0.356592   \n",
       "listed_daycare               0.026101  0.092219   0.004059         0.343996   \n",
       "month_signed_up              1.000000  0.001940   0.005186         0.023414   \n",
       "monday                       0.004513  0.017798  -0.017614         0.020748   \n",
       "tuesday                      0.002366  0.017699  -0.016461         0.020079   \n",
       "wednesday                    0.001256  0.016534  -0.019430         0.013348   \n",
       "thursday                     0.003846  0.015579  -0.018109         0.021122   \n",
       "friday                       0.005952  0.012604  -0.013790         0.039291   \n",
       "saturday                     0.010321  0.009617  -0.007839         0.022056   \n",
       "sunday                       0.008702  0.017217  -0.008532         0.064314   \n",
       "has_dog                      0.012365  0.112520  -0.021935         0.163615   \n",
       "protection_package           0.001572  0.066085   0.023297         0.041088   \n",
       "month_signed_up              1.000000  0.001940   0.005186         0.023414   \n",
       "years_of_experience         -0.001373  0.000755   0.003298         0.002589   \n",
       "dogs_on_furniture           -0.030586 -0.083589   0.004277        -0.704282   \n",
       "children_in_home             0.018718  0.035076  -0.002427         0.231962   \n",
       "building_home                0.015456  0.107743  -0.001767         0.560893   \n",
       "building_apartment           0.010865  0.000038  -0.000675         0.393804   \n",
       "building_farm                0.004694  0.019808   0.002607         0.061117   \n",
       "building_unknown            -0.026632 -0.114694   0.002364        -0.947866   \n",
       "testimonial_requests         0.023973  0.077009  -0.002520         0.001590   \n",
       "photos                       0.001940  1.000000   0.009315         0.115870   \n",
       "churned                      0.012009 -0.089507  -0.010273        -0.155425   \n",
       "\n",
       "                      listed_traveling  listed_walking  listed_dropin  \\\n",
       "month_signed_up               0.015286       -0.000253       0.021674   \n",
       "photos                       -0.039052       -0.007685      -0.032136   \n",
       "cbsa_code                    -0.005395       -0.011224      -0.017011   \n",
       "listed_boarding              -0.397844       -0.152840      -0.356592   \n",
       "listed_traveling              1.000000        0.277540       0.486125   \n",
       "listed_walking                0.277540        1.000000       0.660691   \n",
       "listed_dropin                 0.486125        0.660691       1.000000   \n",
       "listed_daycare               -0.019340        0.336365       0.223489   \n",
       "month_signed_up               0.015286       -0.000253       0.021674   \n",
       "monday                        0.096738        0.084537       0.087888   \n",
       "tuesday                       0.095713        0.087419       0.089002   \n",
       "wednesday                     0.101822        0.089648       0.093682   \n",
       "thursday                      0.091786        0.085890       0.085094   \n",
       "friday                        0.072738        0.080680       0.072592   \n",
       "saturday                      0.110914        0.040500       0.099443   \n",
       "sunday                        0.085063        0.075545       0.065394   \n",
       "has_dog                      -0.091326        0.083506       0.006628   \n",
       "protection_package            0.005819       -0.003247      -0.017203   \n",
       "month_signed_up               0.015286       -0.000253       0.021674   \n",
       "years_of_experience          -0.004485       -0.002611      -0.003635   \n",
       "dogs_on_furniture             0.262744        0.003662       0.160891   \n",
       "children_in_home             -0.160282       -0.032744      -0.079635   \n",
       "building_home                -0.277952       -0.104272      -0.221532   \n",
       "building_apartment           -0.117793       -0.017943      -0.116748   \n",
       "building_farm                -0.027013       -0.017127      -0.028408   \n",
       "building_unknown              0.398025        0.126435       0.339310   \n",
       "testimonial_requests          0.061107        0.068603       0.085165   \n",
       "photos                       -0.039052       -0.007685      -0.032136   \n",
       "churned                       0.018708       -0.028235      -0.023974   \n",
       "\n",
       "                      listed_daycare  month_signed_up    monday    ...     \\\n",
       "month_signed_up             0.026101         1.000000  0.004513    ...      \n",
       "photos                      0.092219         0.001940  0.017798    ...      \n",
       "cbsa_code                   0.004059         0.005186 -0.017614    ...      \n",
       "listed_boarding             0.343996         0.023414  0.020748    ...      \n",
       "listed_traveling           -0.019340         0.015286  0.096738    ...      \n",
       "listed_walking              0.336365        -0.000253  0.084537    ...      \n",
       "listed_dropin               0.223489         0.021674  0.087888    ...      \n",
       "listed_daycare              1.000000         0.026101  0.072133    ...      \n",
       "month_signed_up             0.026101         1.000000  0.004513    ...      \n",
       "monday                      0.072133         0.004513  1.000000    ...      \n",
       "tuesday                     0.074755         0.002366  0.810236    ...      \n",
       "wednesday                   0.071542         0.001256  0.823956    ...      \n",
       "thursday                    0.071966         0.003846  0.732631    ...      \n",
       "friday                      0.070887         0.005952  0.459232    ...      \n",
       "saturday                    0.059522         0.010321  0.296097    ...      \n",
       "sunday                      0.079812         0.008702  0.350209    ...      \n",
       "has_dog                     0.134535         0.012365  0.033623    ...      \n",
       "protection_package          0.062542         0.001572  0.018820    ...      \n",
       "month_signed_up             0.026101         1.000000  0.004513    ...      \n",
       "years_of_experience        -0.001367        -0.001373 -0.011969    ...      \n",
       "dogs_on_furniture          -0.416189        -0.030586 -0.023302    ...      \n",
       "children_in_home            0.166028         0.018718  0.037284    ...      \n",
       "building_home               0.268764         0.015456  0.044003    ...      \n",
       "building_apartment          0.132388         0.010865 -0.029156    ...      \n",
       "building_farm               0.036262         0.004694  0.011861    ...      \n",
       "building_unknown           -0.403960        -0.026632 -0.020801    ...      \n",
       "testimonial_requests        0.064665         0.023973  0.020947    ...      \n",
       "photos                      0.092219         0.001940  0.017798    ...      \n",
       "churned                    -0.141000         0.012009 -0.018035    ...      \n",
       "\n",
       "                      years_of_experience  dogs_on_furniture  \\\n",
       "month_signed_up                 -0.001373          -0.030586   \n",
       "photos                           0.000755          -0.083589   \n",
       "cbsa_code                        0.003298           0.004277   \n",
       "listed_boarding                  0.002589          -0.704282   \n",
       "listed_traveling                -0.004485           0.262744   \n",
       "listed_walking                  -0.002611           0.003662   \n",
       "listed_dropin                   -0.003635           0.160891   \n",
       "listed_daycare                  -0.001367          -0.416189   \n",
       "month_signed_up                 -0.001373          -0.030586   \n",
       "monday                          -0.011969          -0.023302   \n",
       "tuesday                         -0.011666          -0.023957   \n",
       "wednesday                       -0.011785          -0.018198   \n",
       "thursday                        -0.012309          -0.026425   \n",
       "friday                          -0.016174          -0.050012   \n",
       "saturday                        -0.016428          -0.024511   \n",
       "sunday                          -0.014094          -0.054565   \n",
       "has_dog                          0.002920          -0.162251   \n",
       "protection_package              -0.001464          -0.001512   \n",
       "month_signed_up                 -0.001373          -0.030586   \n",
       "years_of_experience              1.000000          -0.005952   \n",
       "dogs_on_furniture               -0.005952           1.000000   \n",
       "children_in_home                -0.000844          -0.289620   \n",
       "building_home                   -0.002331          -0.450977   \n",
       "building_apartment               0.005397          -0.294991   \n",
       "building_farm                   -0.000113          -0.069418   \n",
       "building_unknown                -0.002515           0.745723   \n",
       "testimonial_requests             0.002268          -0.081213   \n",
       "photos                           0.000755          -0.083589   \n",
       "churned                         -0.003629           0.100180   \n",
       "\n",
       "                      children_in_home  building_home  building_apartment  \\\n",
       "month_signed_up               0.018718       0.015456            0.010865   \n",
       "photos                        0.035076       0.107743            0.000038   \n",
       "cbsa_code                    -0.002427      -0.001767           -0.000675   \n",
       "listed_boarding               0.231962       0.560893            0.393804   \n",
       "listed_traveling             -0.160282      -0.277952           -0.117793   \n",
       "listed_walking               -0.032744      -0.104272           -0.017943   \n",
       "listed_dropin                -0.079635      -0.221532           -0.116748   \n",
       "listed_daycare                0.166028       0.268764            0.132388   \n",
       "month_signed_up               0.018718       0.015456            0.010865   \n",
       "monday                        0.037284       0.044003           -0.029156   \n",
       "tuesday                       0.038138       0.043831           -0.029217   \n",
       "wednesday                     0.035828       0.039225           -0.032070   \n",
       "thursday                      0.035394       0.040479           -0.024821   \n",
       "friday                        0.025043       0.028016            0.009277   \n",
       "saturday                      0.010581       0.012039           -0.001320   \n",
       "sunday                        0.014900       0.037276            0.018636   \n",
       "has_dog                       0.084175       0.222128           -0.075877   \n",
       "protection_package            0.030302       0.059280           -0.022634   \n",
       "month_signed_up               0.018718       0.015456            0.010865   \n",
       "years_of_experience          -0.000844      -0.002331            0.005397   \n",
       "dogs_on_furniture            -0.289620      -0.450977           -0.294991   \n",
       "children_in_home              1.000000       0.278186           -0.056844   \n",
       "building_home                 0.278186       1.000000           -0.471731   \n",
       "building_apartment           -0.056844      -0.471731            1.000000   \n",
       "building_farm                 0.039469      -0.069071           -0.049523   \n",
       "building_unknown             -0.241214      -0.585293           -0.419652   \n",
       "testimonial_requests          0.009828       0.000012           -0.001123   \n",
       "photos                        0.035076       0.107743            0.000038   \n",
       "churned                      -0.044197      -0.123487           -0.022254   \n",
       "\n",
       "                      building_farm  building_unknown  testimonial_requests  \\\n",
       "month_signed_up            0.004694         -0.026632              0.023973   \n",
       "photos                     0.019808         -0.114694              0.077009   \n",
       "cbsa_code                  0.002607          0.002364             -0.002520   \n",
       "listed_boarding            0.061117         -0.947866              0.001590   \n",
       "listed_traveling          -0.027013          0.398025              0.061107   \n",
       "listed_walking            -0.017127          0.126435              0.068603   \n",
       "listed_dropin             -0.028408          0.339310              0.085165   \n",
       "listed_daycare             0.036262         -0.403960              0.064665   \n",
       "month_signed_up            0.004694         -0.026632              0.023973   \n",
       "monday                     0.011861         -0.020801              0.020947   \n",
       "tuesday                    0.013168         -0.020823              0.015891   \n",
       "wednesday                  0.012790         -0.013383              0.019128   \n",
       "thursday                   0.012452         -0.021219              0.018421   \n",
       "friday                     0.005806         -0.038528              0.027081   \n",
       "saturday                   0.003482         -0.012044              0.024269   \n",
       "sunday                     0.007838         -0.056985              0.022244   \n",
       "has_dog                    0.047865         -0.169303              0.041999   \n",
       "protection_package         0.007299         -0.042168             -0.000560   \n",
       "month_signed_up            0.004694         -0.026632              0.023973   \n",
       "years_of_experience       -0.000113         -0.002515              0.002268   \n",
       "dogs_on_furniture         -0.069418          0.745723             -0.081213   \n",
       "children_in_home           0.039469         -0.241214              0.009828   \n",
       "building_home             -0.069071         -0.585293              0.000012   \n",
       "building_apartment        -0.049523         -0.419652             -0.001123   \n",
       "building_farm              1.000000         -0.061445              0.022484   \n",
       "building_unknown          -0.061445          1.000000             -0.003128   \n",
       "testimonial_requests       0.022484         -0.003128              1.000000   \n",
       "photos                     0.019808         -0.114694              0.077009   \n",
       "churned                   -0.008019          0.150253             -0.001381   \n",
       "\n",
       "                        photos   churned  \n",
       "month_signed_up       0.001940  0.012009  \n",
       "photos                1.000000 -0.089507  \n",
       "cbsa_code             0.009315 -0.010273  \n",
       "listed_boarding       0.115870 -0.155425  \n",
       "listed_traveling     -0.039052  0.018708  \n",
       "listed_walking       -0.007685 -0.028235  \n",
       "listed_dropin        -0.032136 -0.023974  \n",
       "listed_daycare        0.092219 -0.141000  \n",
       "month_signed_up       0.001940  0.012009  \n",
       "monday                0.017798 -0.018035  \n",
       "tuesday               0.017699 -0.014250  \n",
       "wednesday             0.016534 -0.010802  \n",
       "thursday              0.015579 -0.011447  \n",
       "friday                0.012604 -0.020910  \n",
       "saturday              0.009617 -0.040842  \n",
       "sunday                0.017217 -0.050429  \n",
       "has_dog               0.112520 -0.079737  \n",
       "protection_package    0.066085 -0.086270  \n",
       "month_signed_up       0.001940  0.012009  \n",
       "years_of_experience   0.000755 -0.003629  \n",
       "dogs_on_furniture    -0.083589  0.100180  \n",
       "children_in_home      0.035076 -0.044197  \n",
       "building_home         0.107743 -0.123487  \n",
       "building_apartment    0.000038 -0.022254  \n",
       "building_farm         0.019808 -0.008019  \n",
       "building_unknown     -0.114694  0.150253  \n",
       "testimonial_requests  0.077009 -0.001381  \n",
       "photos                1.000000 -0.089507  \n",
       "churned              -0.089507  1.000000  \n",
       "\n",
       "[29 rows x 29 columns]"
      ]
     },
     "execution_count": 61,
     "metadata": {},
     "output_type": "execute_result"
    }
   ],
   "source": [
    "rover.corr()"
   ]
  },
  {
   "cell_type": "markdown",
   "metadata": {
    "collapsed": true
   },
   "source": [
    "### ROC Curve"
   ]
  },
  {
   "cell_type": "code",
   "execution_count": 90,
   "metadata": {
    "collapsed": false
   },
   "outputs": [
    {
     "name": "stdout",
     "output_type": "stream",
     "text": [
      "[ 0.56067894  0.58260706  0.66190023 ...,  0.09263285  0.37383227\n",
      "  0.45976104]\n"
     ]
    }
   ],
   "source": [
    "y_pred_prob = logreg.predict_proba(X_test)[:, 1]\n",
    "print(y_pred_prob)"
   ]
  },
  {
   "cell_type": "code",
   "execution_count": 91,
   "metadata": {
    "collapsed": true
   },
   "outputs": [],
   "source": [
    "%matplotlib inline\n",
    "import matplotlib.pyplot as plt\n",
    "plt.rcParams['figure.figsize'] = (8, 6)\n",
    "plt.rcParams['font.size'] = 14"
   ]
  },
  {
   "cell_type": "code",
   "execution_count": 92,
   "metadata": {
    "collapsed": false
   },
   "outputs": [
    {
     "data": {
      "text/plain": [
       "<matplotlib.text.Text at 0x1186a7a90>"
      ]
     },
     "execution_count": 92,
     "metadata": {},
     "output_type": "execute_result"
    },
    {
     "data": {
      "image/png": "[encoded data removed]",
      "text/plain": [
       "<matplotlib.figure.Figure at 0x1186b2d90>"
      ]
     },
     "metadata": {},
     "output_type": "display_data"
    }
   ],
   "source": [
    "# plot ROC curve\n",
    "fpr, tpr, thresholds = metrics.roc_curve(y_test, y_pred_prob)\n",
    "plt.plot(fpr, tpr)\n",
    "plt.xlim([0.0, 1.0])\n",
    "plt.ylim([0.0, 1.0])\n",
    "plt.xlabel('False Positive Rate (1 - Specificity)')\n",
    "plt.ylabel('True Positive Rate (Sensitivity)')\n",
    "#print(metrics.roc_curve(y_test, y_pred_prob))"
   ]
  },
  {
   "cell_type": "code",
   "execution_count": 93,
   "metadata": {
    "collapsed": false
   },
   "outputs": [
    {
     "name": "stdout",
     "output_type": "stream",
     "text": [
      "0.645251019399\n"
     ]
    }
   ],
   "source": [
    "print metrics.roc_auc_score(y_test, y_pred_prob)"
   ]
  },
  {
   "cell_type": "markdown",
   "metadata": {
    "collapsed": true
   },
   "source": [
    "### New File"
   ]
  },
  {
   "cell_type": "code",
   "execution_count": null,
   "metadata": {
    "collapsed": true
   },
   "outputs": [],
   "source": []
  }
 ],
 "metadata": {
  "anaconda-cloud": {},
  "kernelspec": {
   "display_name": "Python [Root]",
   "language": "python",
   "name": "Python [Root]"
  },
  "language_info": {
   "codemirror_mode": {
    "name": "ipython",
    "version": 2
   },
   "file_extension": ".py",
   "mimetype": "text/x-python",
   "name": "python",
   "nbconvert_exporter": "python",
   "pygments_lexer": "ipython2",
   "version": "2.7.12"
  }
 },
 "nbformat": 4,
 "nbformat_minor": 0
}
